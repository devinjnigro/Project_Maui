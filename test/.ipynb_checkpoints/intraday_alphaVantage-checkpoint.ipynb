{
 "cells": [
  {
   "cell_type": "code",
   "execution_count": 11,
   "metadata": {},
   "outputs": [
    {
     "name": "stdout",
     "output_type": "stream",
     "text": [
      "                     1. open   2. high  3. low  4. close   5. volume\n",
      "date                                                                \n",
      "2020-04-08 16:00:00  165.030  165.5900  164.16    164.81   6005330.0\n",
      "2020-04-08 15:30:00  165.830  165.9800  164.52    165.02   2732829.0\n",
      "2020-04-08 15:00:00  164.970  165.9324  164.86    165.85   2558252.0\n",
      "2020-04-08 14:30:00  164.015  165.0800  163.50    164.95   2407726.0\n",
      "2020-04-08 14:00:00  164.630  164.7500  163.82    164.02   2272627.0\n",
      "...                      ...       ...     ...       ...         ...\n",
      "2020-02-27 12:00:00  164.510  165.3600  163.51    165.11   3579400.0\n",
      "2020-02-27 11:30:00  164.910  166.4650  164.42    164.52   5018105.0\n",
      "2020-02-27 11:00:00  163.870  165.0800  161.96    164.96   6436045.0\n",
      "2020-02-27 10:30:00  165.940  166.4500  163.49    163.86   6898492.0\n",
      "2020-02-27 10:00:00  163.330  166.5600  162.61    165.98  12785237.0\n",
      "\n",
      "[390 rows x 5 columns]\n"
     ]
    }
   ],
   "source": [
    "#Source: https://github.com/Derrick-Sherrill/DerrickSherrill.com/blob/master/stocks.py\n",
    "\n",
    "import os\n",
    "import pandas as pd\n",
    "from alpha_vantage.timeseries import TimeSeries\n",
    "import time\n",
    "\n",
    "#!pip install alpha_vantage\n",
    "# get API from alpha vantage\n",
    "\n",
    "api_key = os.getenv(\"ALPHA_VANTAGE_API_KEY\")\n",
    "\n",
    "ts = TimeSeries(key=api_key, output_format='pandas')\n",
    "data, meta_data = ts.get_intraday(symbol='MSFT', interval = '30min', outputsize = 'full')\n",
    "print(data)"
   ]
  },
  {
   "cell_type": "code",
   "execution_count": 9,
   "metadata": {},
   "outputs": [
    {
     "name": "stdout",
     "output_type": "stream",
     "text": [
      "date\n",
      "2020-04-08 16:00:00         NaN\n",
      "2020-04-08 15:30:00    0.001274\n",
      "2020-04-08 15:00:00    0.005030\n",
      "2020-04-08 14:30:00   -0.005427\n",
      "2020-04-08 14:00:00   -0.005638\n",
      "                         ...   \n",
      "2020-02-27 12:00:00   -0.001451\n",
      "2020-02-27 11:30:00   -0.003573\n",
      "2020-02-27 11:00:00    0.002674\n",
      "2020-02-27 10:30:00   -0.006668\n",
      "2020-02-27 10:00:00    0.012938\n",
      "Name: 4. close, Length: 390, dtype: float64\n",
      "MSFT Alert:0.01293787379470257\n"
     ]
    }
   ],
   "source": [
    "i = 1\n",
    "#while i==1:\n",
    "#    data, meta_data = ts.get_intraday(symbol='MSFT', interval = '1min', outputsize = 'full')\n",
    "#    data.to_excel(\"output.xlsx\")\n",
    "#    time.sleep(60)\n",
    "\n",
    "close_data = data['4. close']\n",
    "percentage_change = close_data.pct_change()\n",
    "\n",
    "print(percentage_change)\n",
    "\n",
    "last_change = percentage_change[-1]\n",
    "\n",
    "if abs(last_change) > 0.0004:\n",
    "    print(\"MSFT Alert:\" + str(last_change))"
   ]
  },
  {
   "cell_type": "code",
   "execution_count": null,
   "metadata": {},
   "outputs": [],
   "source": []
  }
 ],
 "metadata": {
  "kernelspec": {
   "display_name": "mlenv",
   "language": "python",
   "name": "mlenv"
  },
  "language_info": {
   "codemirror_mode": {
    "name": "ipython",
    "version": 3
   },
   "file_extension": ".py",
   "mimetype": "text/x-python",
   "name": "python",
   "nbconvert_exporter": "python",
   "pygments_lexer": "ipython3",
   "version": "3.7.6"
  }
 },
 "nbformat": 4,
 "nbformat_minor": 4
}
