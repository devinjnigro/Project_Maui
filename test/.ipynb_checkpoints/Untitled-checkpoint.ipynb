{
 "cells": [
  {
   "cell_type": "code",
   "execution_count": 5,
   "metadata": {},
   "outputs": [
    {
     "name": "stdout",
     "output_type": "stream",
     "text": [
      "                      1. open   2. high   3. low  4. close  5. volume\n",
      "date                                                                 \n",
      "2020-04-08 16:00:00  164.8000  165.3100  164.690   165.110   900610.0\n",
      "2020-04-08 15:59:00  164.9500  165.0400  164.740   164.780   365757.0\n",
      "2020-04-08 15:58:00  164.8950  164.9800  164.800   164.940   221745.0\n",
      "2020-04-08 15:57:00  164.5800  164.9000  164.480   164.780   226380.0\n",
      "2020-04-08 15:56:00  165.1600  165.2000  164.700   164.710   237740.0\n",
      "...                       ...       ...      ...       ...        ...\n",
      "2020-04-02 09:35:00  154.1400  155.0000  154.100   154.520   257900.0\n",
      "2020-04-02 09:34:00  154.1087  154.6848  153.940   154.531   181695.0\n",
      "2020-04-02 09:33:00  154.0300  154.0300  154.030   154.030   206760.0\n",
      "2020-04-02 09:32:00  154.1915  154.4500  153.400   153.500   199228.0\n",
      "2020-04-02 09:31:00  154.0760  154.0760  154.076   154.076  1522406.0\n",
      "\n",
      "[1946 rows x 5 columns]\n",
      "date\n",
      "2020-04-08 16:00:00         NaN\n",
      "2020-04-08 15:59:00   -0.001999\n",
      "2020-04-08 15:58:00    0.000971\n",
      "2020-04-08 15:57:00   -0.000970\n",
      "2020-04-08 15:56:00   -0.000425\n",
      "                         ...   \n",
      "2020-04-02 09:35:00    0.001685\n",
      "2020-04-02 09:34:00    0.000071\n",
      "2020-04-02 09:33:00   -0.003242\n",
      "2020-04-02 09:32:00   -0.003441\n",
      "2020-04-02 09:31:00    0.003752\n",
      "Name: 4. close, Length: 1946, dtype: float64\n",
      "MSFT Alert:0.0037524429967426\n"
     ]
    }
   ],
   "source": [
    "#Source: https://github.com/Derrick-Sherrill/DerrickSherrill.com/blob/master/stocks.py\n",
    "\n",
    "import os\n",
    "import pandas as pd\n",
    "from alpha_vantage.timeseries import TimeSeries\n",
    "import time\n",
    "\n",
    "#!pip install alpha_vantage\n",
    "# get API from alpha vantage\n",
    "\n",
    "api_key = os.getenv(\"ALPHA_VANTAGE_API_KEY\")\n",
    "\n",
    "ts = TimeSeries(key=api_key, output_format='pandas')\n",
    "data, meta_data = ts.get_intraday(symbol='MSFT', interval = '1min', outputsize = 'full')\n",
    "print(data)\n",
    "\n",
    "i = 1\n",
    "#while i==1:\n",
    "#    data, meta_data = ts.get_intraday(symbol='MSFT', interval = '1min', outputsize = 'full')\n",
    "#    data.to_excel(\"output.xlsx\")\n",
    "#    time.sleep(60)\n",
    "\n",
    "close_data = data['4. close']\n",
    "percentage_change = close_data.pct_change()\n",
    "\n",
    "print(percentage_change)\n",
    "\n",
    "last_change = percentage_change[-1]\n",
    "\n",
    "if abs(last_change) > 0.0004:\n",
    "    print(\"MSFT Alert:\" + str(last_change))"
   ]
  },
  {
   "cell_type": "code",
   "execution_count": null,
   "metadata": {},
   "outputs": [],
   "source": []
  }
 ],
 "metadata": {
  "kernelspec": {
   "display_name": "mlenv",
   "language": "python",
   "name": "mlenv"
  },
  "language_info": {
   "codemirror_mode": {
    "name": "ipython",
    "version": 3
   },
   "file_extension": ".py",
   "mimetype": "text/x-python",
   "name": "python",
   "nbconvert_exporter": "python",
   "pygments_lexer": "ipython3",
   "version": "3.7.6"
  }
 },
 "nbformat": 4,
 "nbformat_minor": 4
}
