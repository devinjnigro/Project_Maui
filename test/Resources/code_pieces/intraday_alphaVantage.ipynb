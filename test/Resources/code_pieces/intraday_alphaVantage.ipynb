{
 "cells": [
  {
   "cell_type": "code",
   "execution_count": null,
   "metadata": {},
   "outputs": [],
   "source": [
    "#Source: https://github.com/Derrick-Sherrill/DerrickSherrill.com/blob/master/stocks.py\n",
    "\n",
    "import os\n",
    "import pandas as pd\n",
    "from alpha_vantage.timeseries import TimeSeries\n",
    "import time\n",
    "\n",
    "#!pip install alpha_vantage\n",
    "# get API from alpha vantage\n",
    "api_key = os.getenv(\"ALPHA_VANTAGE_API_KEY\")"
   ]
  },
  {
   "cell_type": "code",
   "execution_count": null,
   "metadata": {},
   "outputs": [],
   "source": []
  },
  {
   "cell_type": "code",
   "execution_count": 26,
   "metadata": {},
   "outputs": [],
   "source": [
    "tickers = ['AAPL', 'DIS', 'MSFT', 'IBM']"
   ]
  },
  {
   "cell_type": "code",
   "execution_count": null,
   "metadata": {},
   "outputs": [],
   "source": [
    "ticker = input (\"Enter ticker :\") \n",
    "print(ticker) \n",
    "#ticker_name = input(\"Enter company name : \") \n",
    "#print(ticker_name) "
   ]
  },
  {
   "cell_type": "code",
   "execution_count": 26,
   "metadata": {},
   "outputs": [
    {
     "name": "stdout",
     "output_type": "stream",
     "text": [
      "AAPL                       1. open   2. high    3. low  4. close  5. volume\n",
      "date                                                                  \n",
      "2020-04-09 16:00:00  267.9600  268.1700  267.7700  268.0200   338260.0\n",
      "2020-04-09 15:59:00  267.6700  267.9407  267.5925  267.9400   138922.0\n",
      "2020-04-09 15:58:00  268.0800  268.1800  267.5800  267.6500   119829.0\n",
      "2020-04-09 15:57:00  268.0211  268.2900  267.9677  268.1100    94790.0\n",
      "2020-04-09 15:56:00  267.9327  268.1100  267.7100  268.0200   102342.0\n",
      "...                       ...       ...       ...       ...        ...\n",
      "2020-04-03 09:35:00  244.1536  244.1536  244.1536  244.1536    96465.0\n",
      "2020-04-03 09:34:00  244.2134  244.3900  243.4600  243.8400   114228.0\n",
      "2020-04-03 09:33:00  244.1700  244.1700  244.1700  244.1700   141006.0\n",
      "2020-04-03 09:32:00  243.3500  243.9146  242.9600  243.8100    77413.0\n",
      "2020-04-03 09:31:00  243.1800  243.1800  243.1800  243.1800   836135.0\n",
      "\n",
      "[1947 rows x 5 columns]\n",
      "DIS                      1. open   2. high  3. low  4. close  5. volume\n",
      "date                                                               \n",
      "2020-04-09 16:00:00  104.660  104.7600  104.46  104.5000   194691.0\n",
      "2020-04-09 15:59:00  104.630  104.7100  104.62  104.6550   124027.0\n",
      "2020-04-09 15:58:00  104.770  104.8039  104.60  104.6400   122622.0\n",
      "2020-04-09 15:57:00  104.680  104.8000  104.66  104.7550   123629.0\n",
      "2020-04-09 15:56:00  104.430  104.6899  104.41  104.6818   119487.0\n",
      "...                      ...       ...     ...       ...        ...\n",
      "2020-04-03 09:35:00   95.955   96.2000   95.84   96.0200    42112.0\n",
      "2020-04-03 09:34:00   96.310   96.3100   95.68   95.9100    41809.0\n",
      "2020-04-03 09:33:00   96.150   96.1500   96.15   96.1500    52388.0\n",
      "2020-04-03 09:32:00   96.400   96.4000   96.00   96.2000    36175.0\n",
      "2020-04-03 09:31:00   96.310   96.9200   96.16   96.4200   306070.0\n",
      "\n",
      "[1946 rows x 5 columns]\n",
      "MSFT                      1. open  2. high    3. low  4. close  5. volume\n",
      "date                                                                \n",
      "2020-04-09 16:00:00  164.890   165.36  164.7000  165.2100  1097009.0\n",
      "2020-04-09 15:59:00  164.580   164.90  164.5000  164.8900   415591.0\n",
      "2020-04-09 15:58:00  164.770   164.88  164.5100  164.5900   293237.0\n",
      "2020-04-09 15:57:00  164.765   164.96  164.6000  164.7600   233128.0\n",
      "2020-04-09 15:56:00  164.290   164.78  164.2400  164.7700   253751.0\n",
      "...                      ...      ...       ...       ...        ...\n",
      "2020-04-03 09:35:00  154.730   155.17  154.7100  155.0100    90463.0\n",
      "2020-04-03 09:34:00  155.020   155.11  154.5301  154.7469   143848.0\n",
      "2020-04-03 09:33:00  154.895   155.09  154.7000  155.0600    95953.0\n",
      "2020-04-03 09:32:00  154.960   155.12  154.7001  154.9300    98671.0\n",
      "2020-04-03 09:31:00  155.100   155.96  154.4500  154.9000   935674.0\n",
      "\n",
      "[1947 rows x 5 columns]\n",
      "IBM                       1. open   2. high    3. low  4. close  5. volume\n",
      "date                                                                  \n",
      "2020-04-09 16:00:00  121.5000  121.6600  121.4300  121.5200    65196.0\n",
      "2020-04-09 15:59:00  121.7300  121.7400  121.3900  121.4800    71319.0\n",
      "2020-04-09 15:58:00  122.0100  122.0300  121.6800  121.7350    48499.0\n",
      "2020-04-09 15:57:00  122.0500  122.0700  121.9600  122.0150    43569.0\n",
      "2020-04-09 15:56:00  122.1350  122.1350  122.0000  122.0300    40510.0\n",
      "...                       ...       ...       ...       ...        ...\n",
      "2020-04-03 09:35:00  109.3700  109.5600  109.1400  109.3100    17264.0\n",
      "2020-04-03 09:34:00  109.5650  109.5700  109.1100  109.3800     8546.0\n",
      "2020-04-03 09:33:00  109.4050  109.8900  109.4050  109.5900    10551.0\n",
      "2020-04-03 09:32:00  109.4500  109.8900  109.1900  109.3277     2754.0\n",
      "2020-04-03 09:31:00  109.0159  109.0159  109.0159  109.0159    78514.0\n",
      "\n",
      "[1945 rows x 5 columns]\n"
     ]
    }
   ],
   "source": [
    "for ticker in tickers:\n",
    "    ts = TimeSeries(key=api_key, output_format='pandas')\n",
    "    data, meta_data = ts.get_intraday(symbol=ticker, interval = '1min', outputsize = 'full')\n",
    "    print(ticker, data)"
   ]
  },
  {
   "cell_type": "code",
   "execution_count": 16,
   "metadata": {},
   "outputs": [
    {
     "name": "stdout",
     "output_type": "stream",
     "text": [
      "                     1. open   2. high   3. low  4. close  5. volume\n",
      "date                                                                \n",
      "2020-04-09 16:00:00  104.660  104.7600  104.460  104.5000   194691.0\n",
      "2020-04-09 15:59:00  104.630  104.7100  104.620  104.6550   124027.0\n",
      "2020-04-09 15:58:00  104.770  104.8039  104.600  104.6400   122622.0\n",
      "2020-04-09 15:57:00  104.680  104.8000  104.660  104.7550   123629.0\n",
      "2020-04-09 15:56:00  104.430  104.6899  104.410  104.6818   119487.0\n",
      "...                      ...       ...      ...       ...        ...\n",
      "2020-04-03 09:35:00   95.955   96.2000   95.840   96.0200    42112.0\n",
      "2020-04-03 09:34:00   96.310   96.3100   95.661   95.9100    41809.0\n",
      "2020-04-03 09:33:00   96.010   96.2350   95.750   96.1500    45846.0\n",
      "2020-04-03 09:32:00   96.400   96.4000   96.000   96.0895    42716.0\n",
      "2020-04-03 09:31:00   96.310   96.9200   96.160   96.4200   306070.0\n",
      "\n",
      "[1946 rows x 5 columns]\n"
     ]
    }
   ],
   "source": [
    "\n"
   ]
  },
  {
   "cell_type": "code",
   "execution_count": null,
   "metadata": {},
   "outputs": [],
   "source": []
  },
  {
   "cell_type": "code",
   "execution_count": 19,
   "metadata": {},
   "outputs": [
    {
     "name": "stdout",
     "output_type": "stream",
     "text": [
      "date\n",
      "2020-04-09 16:00:00    0.000000\n",
      "2020-04-09 15:59:00    0.001483\n",
      "2020-04-09 15:58:00   -0.000143\n",
      "2020-04-09 15:57:00    0.001099\n",
      "2020-04-09 15:56:00   -0.000699\n",
      "                         ...   \n",
      "2020-04-03 09:35:00   -0.000676\n",
      "2020-04-03 09:34:00   -0.001146\n",
      "2020-04-03 09:33:00    0.002502\n",
      "2020-04-03 09:32:00   -0.000629\n",
      "2020-04-03 09:31:00    0.003440\n",
      "Name: 4. close, Length: 1946, dtype: float64\n"
     ]
    }
   ],
   "source": [
    "i = 1\n",
    "#while i==1:\n",
    "#    data, meta_data = ts.get_intraday(symbol='DIS', interval = '1min', outputsize = 'full')\n",
    "#    data.to_excel(\"output.xlsx\")\n",
    "#    time.sleep(60)\n",
    "\n",
    "close_data = data['4. close']\n",
    "percentage_change = close_data.pct_change().fillna(0)\n",
    "\n",
    "print(percentage_change)\n",
    "\n",
    "last_change = percentage_change[-1]"
   ]
  },
  {
   "cell_type": "code",
   "execution_count": 23,
   "metadata": {},
   "outputs": [
    {
     "name": "stdout",
     "output_type": "stream",
     "text": [
      "DIS Alert:0.0034395017145474327\n"
     ]
    }
   ],
   "source": [
    "if abs(last_change) > 0.0004:\n",
    "    print(\"DIS Alert:\" + str(last_change))"
   ]
  },
  {
   "cell_type": "code",
   "execution_count": null,
   "metadata": {},
   "outputs": [],
   "source": [
    "# Perhaps with SPY or other indices"
   ]
  }
 ],
 "metadata": {
  "kernelspec": {
   "display_name": "mlenv",
   "language": "python",
   "name": "mlenv"
  },
  "language_info": {
   "codemirror_mode": {
    "name": "ipython",
    "version": 3
   },
   "file_extension": ".py",
   "mimetype": "text/x-python",
   "name": "python",
   "nbconvert_exporter": "python",
   "pygments_lexer": "ipython3",
   "version": "3.7.6"
  }
 },
 "nbformat": 4,
 "nbformat_minor": 4
}
