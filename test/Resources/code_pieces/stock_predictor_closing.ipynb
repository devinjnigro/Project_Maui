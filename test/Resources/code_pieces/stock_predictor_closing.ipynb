{
 "cells": [
  {
   "cell_type": "markdown",
   "metadata": {},
   "source": [
    "# LSTM Stock Predictor Using Closing Prices\n",
    "\n",
    "In this notebook, you will build and train a custom LSTM RNN that uses a 10 day window of Bitcoin closing prices to predict the 11th day closing price. \n",
    "\n",
    "You will need to:\n",
    "\n",
    "1. Prepare the data for training and testing\n",
    "2. Build and train a custom LSTM RNN\n",
    "3. Evaluate the performance of the model"
   ]
  },
  {
   "cell_type": "markdown",
   "metadata": {},
   "source": [
    "## Data Preparation\n",
    "\n",
    "In this section, you will need to prepare the training and testing data for the model. The model will use a rolling 10 day window to predict the 11th day closing price.\n",
    "\n",
    "You will need to:\n",
    "1. Use the `window_data` function to generate the X and y values for the model.\n",
    "2. Split the data into 70% training and 30% testing\n",
    "3. Apply the MinMaxScaler to the X and y values\n",
    "4. Reshape the X_train and X_test data for the model. Note: The required input format for the LSTM is:\n",
    "\n",
    "```python\n",
    "reshape((X_train.shape[0], X_train.shape[1], 1))\n",
    "```"
   ]
  },
  {
   "cell_type": "code",
   "execution_count": 1341,
   "metadata": {},
   "outputs": [],
   "source": [
    "import numpy as np\n",
    "import pandas as pd\n",
    "import hvplot.pandas"
   ]
  },
  {
   "cell_type": "code",
   "execution_count": 1342,
   "metadata": {},
   "outputs": [],
   "source": [
    "# Set the random seed for reproducibility\n",
    "# Note: This is for the homework solution, but it is good practice to comment this out and run multiple experiments to evaluate your model\n",
    "from numpy.random import seed\n",
    "seed(1)\n",
    "from tensorflow import random\n",
    "random.set_seed(2)"
   ]
  },
  {
   "cell_type": "code",
   "execution_count": 1343,
   "metadata": {},
   "outputs": [
    {
     "data": {
      "text/html": [
       "<div>\n",
       "<style scoped>\n",
       "    .dataframe tbody tr th:only-of-type {\n",
       "        vertical-align: middle;\n",
       "    }\n",
       "\n",
       "    .dataframe tbody tr th {\n",
       "        vertical-align: top;\n",
       "    }\n",
       "\n",
       "    .dataframe thead th {\n",
       "        text-align: right;\n",
       "    }\n",
       "</style>\n",
       "<table border=\"1\" class=\"dataframe\">\n",
       "  <thead>\n",
       "    <tr style=\"text-align: right;\">\n",
       "      <th></th>\n",
       "      <th>fng_value</th>\n",
       "    </tr>\n",
       "    <tr>\n",
       "      <th>date</th>\n",
       "      <th></th>\n",
       "    </tr>\n",
       "  </thead>\n",
       "  <tbody>\n",
       "    <tr>\n",
       "      <th>2019-07-29</th>\n",
       "      <td>19</td>\n",
       "    </tr>\n",
       "    <tr>\n",
       "      <th>2019-07-28</th>\n",
       "      <td>16</td>\n",
       "    </tr>\n",
       "    <tr>\n",
       "      <th>2019-07-27</th>\n",
       "      <td>47</td>\n",
       "    </tr>\n",
       "    <tr>\n",
       "      <th>2019-07-26</th>\n",
       "      <td>24</td>\n",
       "    </tr>\n",
       "    <tr>\n",
       "      <th>2019-07-25</th>\n",
       "      <td>42</td>\n",
       "    </tr>\n",
       "  </tbody>\n",
       "</table>\n",
       "</div>"
      ],
      "text/plain": [
       "             fng_value\n",
       "date                  \n",
       "2019-07-29          19\n",
       "2019-07-28          16\n",
       "2019-07-27          47\n",
       "2019-07-26          24\n",
       "2019-07-25          42"
      ]
     },
     "execution_count": 1343,
     "metadata": {},
     "output_type": "execute_result"
    }
   ],
   "source": [
    "# Load the fear and greed sentiment data for Bitcoin\n",
    "df = pd.read_csv('../Data/btc_sentiment.csv', index_col=\"date\", infer_datetime_format=True, parse_dates=True)\n",
    "df = df.drop(columns=\"fng_classification\")\n",
    "df.head()"
   ]
  },
  {
   "cell_type": "code",
   "execution_count": 1344,
   "metadata": {},
   "outputs": [
    {
     "data": {
      "text/plain": [
       "Date\n",
       "2019-07-25    9882.429688\n",
       "2019-07-26    9847.450195\n",
       "2019-07-27    9478.320313\n",
       "2019-07-28    9531.769531\n",
       "2019-07-29    9529.889648\n",
       "Name: Close, dtype: float64"
      ]
     },
     "execution_count": 1344,
     "metadata": {},
     "output_type": "execute_result"
    }
   ],
   "source": [
    "# Load the historical closing prices for bitcoin\n",
    "df2 = pd.read_csv('../Data/btc_historic.csv', index_col=\"Date\", infer_datetime_format=True, parse_dates=True)['Close']\n",
    "df2 = df2.sort_index()\n",
    "df2.tail()"
   ]
  },
  {
   "cell_type": "code",
   "execution_count": 1345,
   "metadata": {},
   "outputs": [
    {
     "data": {
      "text/html": [
       "<div>\n",
       "<style scoped>\n",
       "    .dataframe tbody tr th:only-of-type {\n",
       "        vertical-align: middle;\n",
       "    }\n",
       "\n",
       "    .dataframe tbody tr th {\n",
       "        vertical-align: top;\n",
       "    }\n",
       "\n",
       "    .dataframe thead th {\n",
       "        text-align: right;\n",
       "    }\n",
       "</style>\n",
       "<table border=\"1\" class=\"dataframe\">\n",
       "  <thead>\n",
       "    <tr style=\"text-align: right;\">\n",
       "      <th></th>\n",
       "      <th>fng_value</th>\n",
       "      <th>Close</th>\n",
       "    </tr>\n",
       "  </thead>\n",
       "  <tbody>\n",
       "    <tr>\n",
       "      <th>2019-07-25</th>\n",
       "      <td>42</td>\n",
       "      <td>9882.429688</td>\n",
       "    </tr>\n",
       "    <tr>\n",
       "      <th>2019-07-26</th>\n",
       "      <td>24</td>\n",
       "      <td>9847.450195</td>\n",
       "    </tr>\n",
       "    <tr>\n",
       "      <th>2019-07-27</th>\n",
       "      <td>47</td>\n",
       "      <td>9478.320313</td>\n",
       "    </tr>\n",
       "    <tr>\n",
       "      <th>2019-07-28</th>\n",
       "      <td>16</td>\n",
       "      <td>9531.769531</td>\n",
       "    </tr>\n",
       "    <tr>\n",
       "      <th>2019-07-29</th>\n",
       "      <td>19</td>\n",
       "      <td>9529.889648</td>\n",
       "    </tr>\n",
       "  </tbody>\n",
       "</table>\n",
       "</div>"
      ],
      "text/plain": [
       "             fng_value        Close\n",
       "2019-07-25          42  9882.429688\n",
       "2019-07-26          24  9847.450195\n",
       "2019-07-27          47  9478.320313\n",
       "2019-07-28          16  9531.769531\n",
       "2019-07-29          19  9529.889648"
      ]
     },
     "execution_count": 1345,
     "metadata": {},
     "output_type": "execute_result"
    }
   ],
   "source": [
    "# Join the data into a single DataFrame\n",
    "df = df.join(df2, how=\"inner\")\n",
    "df.tail()"
   ]
  },
  {
   "cell_type": "code",
   "execution_count": 1346,
   "metadata": {},
   "outputs": [
    {
     "data": {
      "text/html": [
       "<div>\n",
       "<style scoped>\n",
       "    .dataframe tbody tr th:only-of-type {\n",
       "        vertical-align: middle;\n",
       "    }\n",
       "\n",
       "    .dataframe tbody tr th {\n",
       "        vertical-align: top;\n",
       "    }\n",
       "\n",
       "    .dataframe thead th {\n",
       "        text-align: right;\n",
       "    }\n",
       "</style>\n",
       "<table border=\"1\" class=\"dataframe\">\n",
       "  <thead>\n",
       "    <tr style=\"text-align: right;\">\n",
       "      <th></th>\n",
       "      <th>fng_value</th>\n",
       "      <th>Close</th>\n",
       "    </tr>\n",
       "  </thead>\n",
       "  <tbody>\n",
       "    <tr>\n",
       "      <th>2018-02-01</th>\n",
       "      <td>30</td>\n",
       "      <td>9114.719727</td>\n",
       "    </tr>\n",
       "    <tr>\n",
       "      <th>2018-02-02</th>\n",
       "      <td>15</td>\n",
       "      <td>8870.820313</td>\n",
       "    </tr>\n",
       "    <tr>\n",
       "      <th>2018-02-03</th>\n",
       "      <td>40</td>\n",
       "      <td>9251.269531</td>\n",
       "    </tr>\n",
       "    <tr>\n",
       "      <th>2018-02-04</th>\n",
       "      <td>24</td>\n",
       "      <td>8218.049805</td>\n",
       "    </tr>\n",
       "    <tr>\n",
       "      <th>2018-02-05</th>\n",
       "      <td>11</td>\n",
       "      <td>6937.080078</td>\n",
       "    </tr>\n",
       "  </tbody>\n",
       "</table>\n",
       "</div>"
      ],
      "text/plain": [
       "             fng_value        Close\n",
       "2018-02-01          30  9114.719727\n",
       "2018-02-02          15  8870.820313\n",
       "2018-02-03          40  9251.269531\n",
       "2018-02-04          24  8218.049805\n",
       "2018-02-05          11  6937.080078"
      ]
     },
     "execution_count": 1346,
     "metadata": {},
     "output_type": "execute_result"
    }
   ],
   "source": [
    "df.head()"
   ]
  },
  {
   "cell_type": "code",
   "execution_count": 1347,
   "metadata": {},
   "outputs": [],
   "source": [
    "# This function accepts the column number for the features (X) and the target (y)\n",
    "# It chunks the data up with a rolling window of Xt-n to predict Xt\n",
    "# It returns a numpy array of X any y\n",
    "def window_data(df, window, feature_col_number, target_col_number):\n",
    "    X = []\n",
    "    y = []\n",
    "    for i in range(len(df) - window - 1):\n",
    "        features = df.iloc[i:(i + window), feature_col_number]\n",
    "        target = df.iloc[(i + window), target_col_number]\n",
    "        X.append(features)\n",
    "        y.append(target)\n",
    "    return np.array(X), np.array(y).reshape(-1, 1)"
   ]
  },
  {
   "cell_type": "markdown",
   "metadata": {},
   "source": [
    "### One-Day Window \n",
    "_**Unshuffled Valuation**_"
   ]
  },
  {
   "cell_type": "code",
   "execution_count": 1370,
   "metadata": {},
   "outputs": [],
   "source": [
    "# Predict Closing Prices using a 10 day window of previous closing prices\n",
    "# Try a window size anywhere from 1 to 10 and see how the model performance changes\n",
    "window_size = 1\n",
    "#window_size = 2\n",
    "#window_size = 3\n",
    "#window_size = 4\n",
    "#window_size = 5\n",
    "#window_size = 6\n",
    "#window_size = 7\n",
    "#window_size = 8\n",
    "#window_size = 9\n",
    "#window_size = 10\n",
    "\n",
    "# Column index 1 is the `Close` column\n",
    "feature_column = 1\n",
    "target_column = 1\n",
    "X, y = window_data(df, window_size, feature_column, target_column)"
   ]
  },
  {
   "cell_type": "code",
   "execution_count": 1371,
   "metadata": {},
   "outputs": [],
   "source": [
    "# Use 70% of the data for training and the remaineder for testing\n",
    "split = int(0.7 * len(X))\n",
    "X_train = X[: split - 1]\n",
    "X_test = X[split:]\n",
    "y_train = y[: split - 1]\n",
    "y_test = y[split:]"
   ]
  },
  {
   "cell_type": "code",
   "execution_count": 1372,
   "metadata": {},
   "outputs": [],
   "source": [
    "# Use the MinMaxScaler to scale data between 0 and 1.\n",
    "from sklearn.preprocessing import MinMaxScaler\n",
    "\n",
    "scaler = MinMaxScaler()\n",
    "scaler.fit(X)\n",
    "X_train = scaler.transform(X_train)\n",
    "X_test = scaler.transform(X_test)\n",
    "scaler.fit(y)\n",
    "y_train = scaler.transform(y_train)\n",
    "y_test = scaler.transform(y_test)"
   ]
  },
  {
   "cell_type": "code",
   "execution_count": 1373,
   "metadata": {},
   "outputs": [
    {
     "name": "stdout",
     "output_type": "stream",
     "text": [
      "X_train sample values:\n",
      "[[[0.60761794]]] \n",
      "\n",
      "X_test sample values:\n",
      "[[[0.03974167]]]\n"
     ]
    }
   ],
   "source": [
    "# Reshape the features for the model\n",
    "X_train = X_train.reshape((X_train.shape[0], X_train.shape[1], 1))\n",
    "X_test = X_test.reshape((X_test.shape[0], X_test.shape[1], 1))\n",
    "print (f\"X_train sample values:\\n{X_train[:1]} \\n\")\n",
    "print (f\"X_test sample values:\\n{X_test[:1]}\")"
   ]
  },
  {
   "cell_type": "markdown",
   "metadata": {},
   "source": [
    "---"
   ]
  },
  {
   "cell_type": "markdown",
   "metadata": {},
   "source": [
    "## Build and Train the LSTM RNN\n",
    "\n",
    "In this section, you will design a custom LSTM RNN and fit (train) it using the training data.\n",
    "\n",
    "You will need to:\n",
    "1. Define the model architecture\n",
    "2. Compile the model\n",
    "3. Fit the model to the training data\n",
    "\n",
    "### Hints:\n",
    "You will want to use the same model architecture and random seed for both notebooks. This is necessary to accurately compare the performance of the FNG model vs the closing price model. "
   ]
  },
  {
   "cell_type": "code",
   "execution_count": 1374,
   "metadata": {},
   "outputs": [],
   "source": [
    "from tensorflow.keras.models import Sequential\n",
    "from tensorflow.keras.layers import LSTM, Dense, Dropout"
   ]
  },
  {
   "cell_type": "code",
   "execution_count": 1375,
   "metadata": {},
   "outputs": [],
   "source": [
    "# Build the LSTM model. \n",
    "# The return sequences need to be set to True if you are adding additional LSTM layers, but \n",
    "# You don't have to do this for the final layer. \n",
    "# Define the LSTM RNN model.\n",
    "\n",
    "model = Sequential()\n",
    "\n",
    "# Initial model setup\n",
    "number_units = 30\n",
    "dropout_fraction = 0.2\n",
    "\n",
    "# Layer 1\n",
    "model.add(LSTM(\n",
    "    units=number_units,\n",
    "    return_sequences=True,\n",
    "    input_shape=(X_train.shape[1], 1))\n",
    "    )\n",
    "model.add(Dropout(dropout_fraction))\n",
    "\n",
    "# Layer 2\n",
    "model.add(LSTM(units=number_units, activation='tanh', return_sequences=True))\n",
    "model.add(Dropout(dropout_fraction))\n",
    "\n",
    "# Layer 3\n",
    "model.add(LSTM(units=number_units))\n",
    "model.add(Dropout(dropout_fraction))\n",
    "\n",
    "# Output layer\n",
    "model.add(Dense(1))"
   ]
  },
  {
   "cell_type": "code",
   "execution_count": 1376,
   "metadata": {},
   "outputs": [
    {
     "data": {
      "text/plain": [
       "(377, 1, 1)"
      ]
     },
     "execution_count": 1376,
     "metadata": {},
     "output_type": "execute_result"
    }
   ],
   "source": [
    "X_train.shape"
   ]
  },
  {
   "cell_type": "code",
   "execution_count": 1377,
   "metadata": {},
   "outputs": [
    {
     "data": {
      "text/plain": [
       "(377, 1)"
      ]
     },
     "execution_count": 1377,
     "metadata": {},
     "output_type": "execute_result"
    }
   ],
   "source": [
    "y_train.shape"
   ]
  },
  {
   "cell_type": "code",
   "execution_count": 1378,
   "metadata": {},
   "outputs": [],
   "source": [
    "# Compile the model\n",
    "model.compile(optimizer=\"adam\", \n",
    "              loss=\"mean_squared_error\") "
   ]
  },
  {
   "cell_type": "code",
   "execution_count": 1379,
   "metadata": {},
   "outputs": [
    {
     "name": "stdout",
     "output_type": "stream",
     "text": [
      "Model: \"sequential_59\"\n",
      "_________________________________________________________________\n",
      "Layer (type)                 Output Shape              Param #   \n",
      "=================================================================\n",
      "lstm_177 (LSTM)              (None, 1, 30)             3840      \n",
      "_________________________________________________________________\n",
      "dropout_177 (Dropout)        (None, 1, 30)             0         \n",
      "_________________________________________________________________\n",
      "lstm_178 (LSTM)              (None, 1, 30)             7320      \n",
      "_________________________________________________________________\n",
      "dropout_178 (Dropout)        (None, 1, 30)             0         \n",
      "_________________________________________________________________\n",
      "lstm_179 (LSTM)              (None, 30)                7320      \n",
      "_________________________________________________________________\n",
      "dropout_179 (Dropout)        (None, 30)                0         \n",
      "_________________________________________________________________\n",
      "dense_59 (Dense)             (None, 1)                 31        \n",
      "=================================================================\n",
      "Total params: 18,511\n",
      "Trainable params: 18,511\n",
      "Non-trainable params: 0\n",
      "_________________________________________________________________\n"
     ]
    }
   ],
   "source": [
    "# Summarize the model\n",
    "model.summary() "
   ]
  },
  {
   "cell_type": "code",
   "execution_count": 1380,
   "metadata": {},
   "outputs": [],
   "source": [
    "# Creating validation data sets\n",
    "from sklearn.model_selection import train_test_split\n",
    "X_train, X_val, y_train, y_val = train_test_split(X_train, y_train, test_size = 0.3, shuffle=False, random_state=2) "
   ]
  },
  {
   "cell_type": "code",
   "execution_count": 1381,
   "metadata": {},
   "outputs": [
    {
     "name": "stdout",
     "output_type": "stream",
     "text": [
      "Train on 263 samples, validate on 114 samples\n",
      "Epoch 1/20\n",
      "263/263 [==============================] - 6s 23ms/sample - loss: 0.2142 - val_loss: 0.0181\n",
      "Epoch 2/20\n",
      "263/263 [==============================] - 0s 193us/sample - loss: 0.1867 - val_loss: 0.0139\n",
      "Epoch 3/20\n",
      "263/263 [==============================] - 0s 216us/sample - loss: 0.1569 - val_loss: 0.0117\n",
      "Epoch 4/20\n",
      "263/263 [==============================] - 0s 207us/sample - loss: 0.1250 - val_loss: 0.0131\n",
      "Epoch 5/20\n",
      "263/263 [==============================] - 0s 208us/sample - loss: 0.0887 - val_loss: 0.0214\n",
      "Epoch 6/20\n",
      "263/263 [==============================] - 0s 201us/sample - loss: 0.0561 - val_loss: 0.0410\n",
      "Epoch 7/20\n",
      "263/263 [==============================] - 0s 230us/sample - loss: 0.0300 - val_loss: 0.0722\n",
      "Epoch 8/20\n",
      "263/263 [==============================] - 0s 208us/sample - loss: 0.0184 - val_loss: 0.0970\n",
      "Epoch 9/20\n",
      "263/263 [==============================] - 0s 202us/sample - loss: 0.0160 - val_loss: 0.0961\n",
      "Epoch 10/20\n",
      "263/263 [==============================] - 0s 209us/sample - loss: 0.0144 - val_loss: 0.0850\n",
      "Epoch 11/20\n",
      "263/263 [==============================] - 0s 214us/sample - loss: 0.0132 - val_loss: 0.0776\n",
      "Epoch 12/20\n",
      "263/263 [==============================] - 0s 213us/sample - loss: 0.0139 - val_loss: 0.0763\n",
      "Epoch 13/20\n",
      "263/263 [==============================] - 0s 210us/sample - loss: 0.0131 - val_loss: 0.0772\n",
      "Epoch 14/20\n",
      "263/263 [==============================] - 0s 209us/sample - loss: 0.0148 - val_loss: 0.0782\n",
      "Epoch 15/20\n",
      "263/263 [==============================] - 0s 213us/sample - loss: 0.0133 - val_loss: 0.0768\n",
      "Epoch 16/20\n",
      "263/263 [==============================] - 0s 200us/sample - loss: 0.0146 - val_loss: 0.0746\n",
      "Epoch 17/20\n",
      "263/263 [==============================] - 0s 199us/sample - loss: 0.0124 - val_loss: 0.0710\n",
      "Epoch 18/20\n",
      "263/263 [==============================] - 0s 229us/sample - loss: 0.0119 - val_loss: 0.0692\n",
      "Epoch 19/20\n",
      "263/263 [==============================] - 0s 209us/sample - loss: 0.0139 - val_loss: 0.0700\n",
      "Epoch 20/20\n",
      "263/263 [==============================] - 0s 204us/sample - loss: 0.0127 - val_loss: 0.0687\n"
     ]
    }
   ],
   "source": [
    "# Train the model\n",
    "# Use at least 10 epochs\n",
    "# Do not shuffle the data\n",
    "# Experiement with the batch size, but a smaller batch size is recommended\n",
    "training_history = model.fit(\n",
    "    X_train, \n",
    "    y_train, \n",
    "    validation_data=(X_val, y_val),\n",
    "    epochs=20, \n",
    "    shuffle=False, \n",
    "    batch_size=30, \n",
    "    verbose=1\n",
    "  ) "
   ]
  },
  {
   "cell_type": "code",
   "execution_count": 1382,
   "metadata": {},
   "outputs": [
    {
     "name": "stdout",
     "output_type": "stream",
     "text": [
      "Train on 263 samples, validate on 114 samples\n",
      "Epoch 1/50\n",
      "263/263 [==============================] - 0s 590us/sample - loss: 0.0124 - val_loss: 0.0516\n",
      "Epoch 2/50\n",
      "263/263 [==============================] - 0s 544us/sample - loss: 0.0153 - val_loss: 0.0507\n",
      "Epoch 3/50\n",
      "263/263 [==============================] - 0s 509us/sample - loss: 0.0116 - val_loss: 0.0475\n",
      "Epoch 4/50\n",
      "263/263 [==============================] - 0s 508us/sample - loss: 0.0132 - val_loss: 0.0405\n",
      "Epoch 5/50\n",
      "263/263 [==============================] - 0s 472us/sample - loss: 0.0128 - val_loss: 0.0368\n",
      "Epoch 6/50\n",
      "263/263 [==============================] - 0s 470us/sample - loss: 0.0110 - val_loss: 0.0325\n",
      "Epoch 7/50\n",
      "263/263 [==============================] - 0s 535us/sample - loss: 0.0109 - val_loss: 0.0281\n",
      "Epoch 8/50\n",
      "263/263 [==============================] - 0s 504us/sample - loss: 0.0097 - val_loss: 0.0245\n",
      "Epoch 9/50\n",
      "263/263 [==============================] - 0s 478us/sample - loss: 0.0079 - val_loss: 0.0210\n",
      "Epoch 10/50\n",
      "263/263 [==============================] - 0s 486us/sample - loss: 0.0068 - val_loss: 0.0178\n",
      "Epoch 11/50\n",
      "263/263 [==============================] - 0s 486us/sample - loss: 0.0053 - val_loss: 0.0175\n",
      "Epoch 12/50\n",
      "263/263 [==============================] - 0s 488us/sample - loss: 0.0058 - val_loss: 0.0147\n",
      "Epoch 13/50\n",
      "263/263 [==============================] - 0s 471us/sample - loss: 0.0052 - val_loss: 0.0137\n",
      "Epoch 14/50\n",
      "263/263 [==============================] - 0s 496us/sample - loss: 0.0049 - val_loss: 0.0120\n",
      "Epoch 15/50\n",
      "263/263 [==============================] - 0s 487us/sample - loss: 0.0051 - val_loss: 0.0140\n",
      "Epoch 16/50\n",
      "263/263 [==============================] - 0s 529us/sample - loss: 0.0065 - val_loss: 0.0130\n",
      "Epoch 17/50\n",
      "263/263 [==============================] - 0s 549us/sample - loss: 0.0054 - val_loss: 0.0127\n",
      "Epoch 18/50\n",
      "263/263 [==============================] - 0s 500us/sample - loss: 0.0050 - val_loss: 0.0127\n",
      "Epoch 19/50\n",
      "263/263 [==============================] - 0s 535us/sample - loss: 0.0057 - val_loss: 0.0118\n",
      "Epoch 20/50\n",
      "263/263 [==============================] - 0s 537us/sample - loss: 0.0056 - val_loss: 0.0117\n",
      "Epoch 21/50\n",
      "263/263 [==============================] - 0s 489us/sample - loss: 0.0053 - val_loss: 0.0123\n",
      "Epoch 22/50\n",
      "263/263 [==============================] - 0s 538us/sample - loss: 0.0044 - val_loss: 0.0116\n",
      "Epoch 23/50\n",
      "263/263 [==============================] - 0s 524us/sample - loss: 0.0048 - val_loss: 0.0123\n",
      "Epoch 24/50\n",
      "263/263 [==============================] - 0s 528us/sample - loss: 0.0049 - val_loss: 0.0129\n",
      "Epoch 25/50\n",
      "263/263 [==============================] - 0s 559us/sample - loss: 0.0042 - val_loss: 0.0124\n",
      "Epoch 26/50\n",
      "263/263 [==============================] - 0s 476us/sample - loss: 0.0050 - val_loss: 0.0116\n",
      "Epoch 27/50\n",
      "263/263 [==============================] - 0s 474us/sample - loss: 0.0048 - val_loss: 0.0102\n",
      "Epoch 28/50\n",
      "263/263 [==============================] - 0s 492us/sample - loss: 0.0054 - val_loss: 0.0118\n",
      "Epoch 29/50\n",
      "263/263 [==============================] - 0s 482us/sample - loss: 0.0041 - val_loss: 0.0104\n",
      "Epoch 30/50\n",
      "263/263 [==============================] - 0s 478us/sample - loss: 0.0037 - val_loss: 0.0101\n",
      "Epoch 31/50\n",
      "263/263 [==============================] - 0s 554us/sample - loss: 0.0050 - val_loss: 0.0097\n",
      "Epoch 32/50\n",
      "263/263 [==============================] - 0s 540us/sample - loss: 0.0042 - val_loss: 0.0100\n",
      "Epoch 33/50\n",
      "263/263 [==============================] - 0s 497us/sample - loss: 0.0040 - val_loss: 0.0101\n",
      "Epoch 34/50\n",
      "263/263 [==============================] - 0s 493us/sample - loss: 0.0035 - val_loss: 0.0102\n",
      "Epoch 35/50\n",
      "263/263 [==============================] - 0s 469us/sample - loss: 0.0037 - val_loss: 0.0101\n",
      "Epoch 36/50\n",
      "263/263 [==============================] - 0s 486us/sample - loss: 0.0031 - val_loss: 0.0092\n",
      "Epoch 37/50\n",
      "263/263 [==============================] - 0s 531us/sample - loss: 0.0042 - val_loss: 0.0097\n",
      "Epoch 38/50\n",
      "263/263 [==============================] - 0s 559us/sample - loss: 0.0044 - val_loss: 0.0087\n",
      "Epoch 39/50\n",
      "263/263 [==============================] - 0s 529us/sample - loss: 0.0046 - val_loss: 0.0118\n",
      "Epoch 40/50\n",
      "263/263 [==============================] - 0s 514us/sample - loss: 0.0030 - val_loss: 0.0092\n",
      "Epoch 41/50\n",
      "263/263 [==============================] - 0s 494us/sample - loss: 0.0037 - val_loss: 0.0105\n",
      "Epoch 42/50\n",
      "263/263 [==============================] - 0s 487us/sample - loss: 0.0037 - val_loss: 0.0114\n",
      "Epoch 43/50\n",
      "263/263 [==============================] - 0s 484us/sample - loss: 0.0031 - val_loss: 0.0099\n",
      "Epoch 44/50\n",
      "263/263 [==============================] - 0s 504us/sample - loss: 0.0033 - val_loss: 0.0099\n",
      "Epoch 45/50\n",
      "263/263 [==============================] - 0s 522us/sample - loss: 0.0037 - val_loss: 0.0104\n",
      "Epoch 46/50\n",
      "263/263 [==============================] - 0s 534us/sample - loss: 0.0038 - val_loss: 0.0101\n",
      "Epoch 47/50\n",
      "263/263 [==============================] - 0s 651us/sample - loss: 0.0034 - val_loss: 0.0081\n",
      "Epoch 48/50\n",
      "263/263 [==============================] - 0s 519us/sample - loss: 0.0031 - val_loss: 0.0078\n",
      "Epoch 49/50\n",
      "263/263 [==============================] - 0s 532us/sample - loss: 0.0029 - val_loss: 0.0065\n",
      "Epoch 50/50\n",
      "263/263 [==============================] - 0s 487us/sample - loss: 0.0034 - val_loss: 0.0098\n"
     ]
    }
   ],
   "source": [
    "training_history = model.fit(\n",
    "    X_train, \n",
    "    y_train, \n",
    "    validation_data=(X_val, y_val),\n",
    "    epochs=50, \n",
    "    shuffle=False, \n",
    "    batch_size=10, \n",
    "    verbose=1) "
   ]
  },
  {
   "cell_type": "markdown",
   "metadata": {},
   "source": [
    "---"
   ]
  },
  {
   "cell_type": "markdown",
   "metadata": {},
   "source": [
    "## Model Performance\n",
    "\n",
    "In this section, you will evaluate the model using the test data. \n",
    "\n",
    "You will need to:\n",
    "1. Evaluate the model using the `X_test` and `y_test` data.\n",
    "2. Use the X_test data to make predictions\n",
    "3. Create a DataFrame of Real (y_test) vs predicted values. \n",
    "4. Plot the Real vs predicted values as a line chart\n",
    "\n",
    "### Hints\n",
    "Remember to apply the `inverse_transform` function to the predicted and y_test values to recover the actual closing prices."
   ]
  },
  {
   "cell_type": "code",
   "execution_count": 1383,
   "metadata": {},
   "outputs": [
    {
     "name": "stdout",
     "output_type": "stream",
     "text": [
      "\n",
      " Evaluate on test data for 1-day rolling bitcoin closing prices:\n",
      "\n",
      " For unshuffled valuation, test loss on LSTM RNN is 0.0053.\n"
     ]
    }
   ],
   "source": [
    "# Evaluate the model on the test data using `evaluate`\n",
    "print(f'\\n Evaluate on test data for {window_size}-day rolling bitcoin closing prices:')\n",
    "results = model.evaluate(X_test, y_test, verbose=0)\n",
    "print(f'\\n For unshuffled valuation, test loss on LSTM RNN is {results:,.4f}.')"
   ]
  },
  {
   "cell_type": "code",
   "execution_count": 1384,
   "metadata": {},
   "outputs": [],
   "source": [
    "# Make some predictions\n",
    "# Make predictions using the testing data X_test\n",
    "predicted = model.predict(X_test)"
   ]
  },
  {
   "cell_type": "code",
   "execution_count": 1385,
   "metadata": {},
   "outputs": [],
   "source": [
    "# Recover the original prices instead of the scaled version\n",
    "predicted_prices = scaler.inverse_transform(predicted)\n",
    "real_prices = scaler.inverse_transform(y_test.reshape(-1, 1))"
   ]
  },
  {
   "cell_type": "code",
   "execution_count": 1386,
   "metadata": {},
   "outputs": [
    {
     "data": {
      "text/html": [
       "<div>\n",
       "<style scoped>\n",
       "    .dataframe tbody tr th:only-of-type {\n",
       "        vertical-align: middle;\n",
       "    }\n",
       "\n",
       "    .dataframe tbody tr th {\n",
       "        vertical-align: top;\n",
       "    }\n",
       "\n",
       "    .dataframe thead th {\n",
       "        text-align: right;\n",
       "    }\n",
       "</style>\n",
       "<table border=\"1\" class=\"dataframe\">\n",
       "  <thead>\n",
       "    <tr style=\"text-align: right;\">\n",
       "      <th></th>\n",
       "      <th>Real</th>\n",
       "      <th>Predicted</th>\n",
       "    </tr>\n",
       "  </thead>\n",
       "  <tbody>\n",
       "    <tr>\n",
       "      <th>0</th>\n",
       "      <td>3670.919922</td>\n",
       "      <td>4712.372559</td>\n",
       "    </tr>\n",
       "    <tr>\n",
       "      <th>1</th>\n",
       "      <td>3670.919922</td>\n",
       "      <td>4741.778320</td>\n",
       "    </tr>\n",
       "    <tr>\n",
       "      <th>2</th>\n",
       "      <td>3912.570068</td>\n",
       "      <td>4741.778320</td>\n",
       "    </tr>\n",
       "    <tr>\n",
       "      <th>3</th>\n",
       "      <td>3924.239990</td>\n",
       "      <td>4876.803223</td>\n",
       "    </tr>\n",
       "    <tr>\n",
       "      <th>4</th>\n",
       "      <td>3974.050049</td>\n",
       "      <td>4883.434570</td>\n",
       "    </tr>\n",
       "  </tbody>\n",
       "</table>\n",
       "</div>"
      ],
      "text/plain": [
       "          Real    Predicted\n",
       "0  3670.919922  4712.372559\n",
       "1  3670.919922  4741.778320\n",
       "2  3912.570068  4741.778320\n",
       "3  3924.239990  4876.803223\n",
       "4  3974.050049  4883.434570"
      ]
     },
     "execution_count": 1386,
     "metadata": {},
     "output_type": "execute_result"
    }
   ],
   "source": [
    "# Create a DataFrame of Real and Predicted values\n",
    "btc_closing = pd.DataFrame({\n",
    "    \"Real\": real_prices.ravel(),\n",
    "    \"Predicted\": predicted_prices.ravel()\n",
    "})\n",
    "btc_closing.head()"
   ]
  },
  {
   "cell_type": "code",
   "execution_count": 1387,
   "metadata": {},
   "outputs": [
    {
     "data": {
      "text/plain": [
       "<Figure size 432x288 with 0 Axes>"
      ]
     },
     "metadata": {},
     "output_type": "display_data"
    },
    {
     "data": {
      "image/png": "[encoded data removed]",
      "text/plain": [
       "<Figure size 432x288 with 1 Axes>"
      ]
     },
     "metadata": {
      "needs_background": "light"
     },
     "output_type": "display_data"
    }
   ],
   "source": [
    "# Plot the real vs predicted values as a line chart\n",
    "import matplotlib.pyplot as plt\n",
    "import matplotlib\n",
    "import matplotlib.pyplot as plt\n",
    "plt.figure()\n",
    "btc_closing.plot(title=f\"{window_size}-Day Rolling Unshuffled Real Vs. Predicted Bitcoin Prices\")\n",
    "plt.savefig('../Images/btc_closing_unshuffled_1day.png')\n",
    "plt.show()"
   ]
  },
  {
   "cell_type": "code",
   "execution_count": 1388,
   "metadata": {},
   "outputs": [
    {
     "data": {
      "text/plain": [
       "<Figure size 432x288 with 0 Axes>"
      ]
     },
     "metadata": {},
     "output_type": "display_data"
    },
    {
     "data": {
      "image/png": "[encoded data removed]",
      "text/plain": [
       "<Figure size 432x288 with 1 Axes>"
      ]
     },
     "metadata": {
      "needs_background": "light"
     },
     "output_type": "display_data"
    }
   ],
   "source": [
    "# Plotting loss\n",
    "epochs = 50\n",
    "loss_df = pd.DataFrame(\n",
    "    {\n",
    "        \"Epoch\": range(1, epochs + 1),\n",
    "        \"Train\": training_history.history[\"loss\"],\n",
    "        \"Val\": training_history.history[\"val_loss\"],\n",
    "    }\n",
    ")\n",
    "loss_df.set_index(\"Epoch\", inplace=True)\n",
    "\n",
    "plt.figure()\n",
    "loss_df.plot(title=f\"Loss on LSTM {window_size}-Day Unshuffled Model for Bitcoin Closing Prices\")\n",
    "plt.savefig('../Images/btc_loss_unshuffled_1day.png')\n",
    "plt.show()"
   ]
  },
  {
   "cell_type": "code",
   "execution_count": 1389,
   "metadata": {},
   "outputs": [],
   "source": [
    "import h5py\n",
    "\n",
    "model.save('../Models/btc_closing_unshuffled_1day.h5')  # creates a HDF5 file 'my_model.h5'\n",
    "del model  # deletes the existing model"
   ]
  },
  {
   "cell_type": "code",
   "execution_count": 1390,
   "metadata": {},
   "outputs": [],
   "source": [
    "from keras.models import load_model\n",
    "import tensorflow as tf\n",
    "from tensorflow import keras"
   ]
  },
  {
   "cell_type": "code",
   "execution_count": 1391,
   "metadata": {},
   "outputs": [],
   "source": [
    "# returns a compiled model\n",
    "# identical to the previous one\n",
    "model = tf.keras.models.load_model('../Models/btc_closing_unshuffled_1day.h5')"
   ]
  },
  {
   "cell_type": "markdown",
   "metadata": {},
   "source": [
    "### One-Day Window\n",
    "_**Shuffled Valuation**_"
   ]
  },
  {
   "cell_type": "markdown",
   "metadata": {},
   "source": [
    "#### _**Data Preparation**_"
   ]
  },
  {
   "cell_type": "code",
   "execution_count": 1316,
   "metadata": {},
   "outputs": [],
   "source": [
    "# Predict Closing Prices using a 10 day window of fear and greed index values and a target of the 11th day closing price\n",
    "# Try a window size anywhere from 1 to 10 and see how the model performance changes\n",
    "window_size = 1\n",
    "\n",
    "# Column index 1 is the `Close` column\n",
    "feature_column = 1\n",
    "target_column = 1\n",
    "X, y = window_data(df, window_size, feature_column, target_column)"
   ]
  },
  {
   "cell_type": "code",
   "execution_count": 1317,
   "metadata": {},
   "outputs": [],
   "source": [
    "# Use 70% of the data for training and the remainder for testing\n",
    "split = int(0.7 * len(X))\n",
    "X_train = X[: split - 1]\n",
    "X_test = X[split:]\n",
    "y_train = y[: split - 1]\n",
    "y_test = y[split:]"
   ]
  },
  {
   "cell_type": "code",
   "execution_count": 1318,
   "metadata": {},
   "outputs": [],
   "source": [
    "# Use MinMaxScaler to scale the data between 0 and 1. \n",
    "from sklearn.preprocessing import MinMaxScaler\n",
    "\n",
    "scaler = MinMaxScaler()\n",
    "scaler.fit(X)\n",
    "X_train = scaler.transform(X_train)\n",
    "X_test = scaler.transform(X_test)\n",
    "scaler.fit(y)\n",
    "y_train = scaler.transform(y_train)\n",
    "y_test = scaler.transform(y_test)"
   ]
  },
  {
   "cell_type": "code",
   "execution_count": 1319,
   "metadata": {},
   "outputs": [
    {
     "name": "stdout",
     "output_type": "stream",
     "text": [
      "X_train sample values:\n",
      "[[[0.60761794]]] \n",
      "\n",
      "X_test sample values:\n",
      "[[[0.03974167]]]\n"
     ]
    }
   ],
   "source": [
    "# Reshape the features for the model\n",
    "X_train = X_train.reshape((X_train.shape[0], X_train.shape[1], 1))\n",
    "X_test = X_test.reshape((X_test.shape[0], X_test.shape[1], 1))\n",
    "print (f\"X_train sample values:\\n{X_train[:1]} \\n\")\n",
    "print (f\"X_test sample values:\\n{X_test[:1]}\")"
   ]
  },
  {
   "cell_type": "markdown",
   "metadata": {},
   "source": [
    "#### _**Model Training**_"
   ]
  },
  {
   "cell_type": "code",
   "execution_count": 1320,
   "metadata": {},
   "outputs": [],
   "source": [
    "from tensorflow.keras.models import Sequential\n",
    "from tensorflow.keras.layers import LSTM, Dense, Dropout"
   ]
  },
  {
   "cell_type": "code",
   "execution_count": 1321,
   "metadata": {},
   "outputs": [],
   "source": [
    "# Build the LSTM model. \n",
    "# The return sequences need to be set to True if you are adding additional LSTM layers, but \n",
    "# You don't have to do this for the final layer. \n",
    "# Define the LSTM RNN model.\n",
    "\n",
    "model = Sequential()\n",
    "\n",
    "# Initial model setup\n",
    "number_units = 30\n",
    "dropout_fraction = 0.2\n",
    "\n",
    "# Layer 1\n",
    "model.add(LSTM(\n",
    "    units=number_units,\n",
    "    return_sequences=True,\n",
    "    input_shape=(X_train.shape[1], 1))\n",
    "    )\n",
    "model.add(Dropout(dropout_fraction))\n",
    "\n",
    "# Layer 2\n",
    "model.add(LSTM(units=number_units, activation='tanh', return_sequences=True))\n",
    "model.add(Dropout(dropout_fraction))\n",
    "\n",
    "# Layer 3\n",
    "model.add(LSTM(units=number_units))\n",
    "model.add(Dropout(dropout_fraction))\n",
    "\n",
    "# Output layer\n",
    "model.add(Dense(1))"
   ]
  },
  {
   "cell_type": "code",
   "execution_count": 1322,
   "metadata": {},
   "outputs": [],
   "source": [
    "# Compile the model\n",
    "model.compile(optimizer=\"adam\", \n",
    "              loss=\"mean_squared_error\") "
   ]
  },
  {
   "cell_type": "code",
   "execution_count": 1323,
   "metadata": {},
   "outputs": [
    {
     "name": "stdout",
     "output_type": "stream",
     "text": [
      "Model: \"sequential_57\"\n",
      "_________________________________________________________________\n",
      "Layer (type)                 Output Shape              Param #   \n",
      "=================================================================\n",
      "lstm_171 (LSTM)              (None, 1, 30)             3840      \n",
      "_________________________________________________________________\n",
      "dropout_171 (Dropout)        (None, 1, 30)             0         \n",
      "_________________________________________________________________\n",
      "lstm_172 (LSTM)              (None, 1, 30)             7320      \n",
      "_________________________________________________________________\n",
      "dropout_172 (Dropout)        (None, 1, 30)             0         \n",
      "_________________________________________________________________\n",
      "lstm_173 (LSTM)              (None, 30)                7320      \n",
      "_________________________________________________________________\n",
      "dropout_173 (Dropout)        (None, 30)                0         \n",
      "_________________________________________________________________\n",
      "dense_57 (Dense)             (None, 1)                 31        \n",
      "=================================================================\n",
      "Total params: 18,511\n",
      "Trainable params: 18,511\n",
      "Non-trainable params: 0\n",
      "_________________________________________________________________\n"
     ]
    }
   ],
   "source": [
    "# Summarize the model\n",
    "model.summary() "
   ]
  },
  {
   "cell_type": "code",
   "execution_count": 1324,
   "metadata": {},
   "outputs": [],
   "source": [
    "# Creating validation data sets\n",
    "from sklearn.model_selection import train_test_split\n",
    "X_train, X_val, y_train, y_val = train_test_split(X_train, y_train, test_size=0.3, random_state=2) "
   ]
  },
  {
   "cell_type": "code",
   "execution_count": 1325,
   "metadata": {},
   "outputs": [
    {
     "name": "stdout",
     "output_type": "stream",
     "text": [
      "Train on 263 samples, validate on 114 samples\n",
      "Epoch 1/20\n",
      "263/263 [==============================] - 4s 15ms/sample - loss: 0.1511 - val_loss: 0.1483\n",
      "Epoch 2/20\n",
      "263/263 [==============================] - 0s 184us/sample - loss: 0.1294 - val_loss: 0.1251\n",
      "Epoch 3/20\n",
      "263/263 [==============================] - 0s 204us/sample - loss: 0.1063 - val_loss: 0.1000\n",
      "Epoch 4/20\n",
      "263/263 [==============================] - 0s 208us/sample - loss: 0.0825 - val_loss: 0.0737\n",
      "Epoch 5/20\n",
      "263/263 [==============================] - 0s 205us/sample - loss: 0.0576 - val_loss: 0.0489\n",
      "Epoch 6/20\n",
      "263/263 [==============================] - 0s 221us/sample - loss: 0.0385 - val_loss: 0.0324\n",
      "Epoch 7/20\n",
      "263/263 [==============================] - 0s 209us/sample - loss: 0.0298 - val_loss: 0.0284\n",
      "Epoch 8/20\n",
      "263/263 [==============================] - 0s 215us/sample - loss: 0.0296 - val_loss: 0.0267\n",
      "Epoch 9/20\n",
      "263/263 [==============================] - 0s 204us/sample - loss: 0.0298 - val_loss: 0.0249\n",
      "Epoch 10/20\n",
      "263/263 [==============================] - 0s 218us/sample - loss: 0.0257 - val_loss: 0.0230\n",
      "Epoch 11/20\n",
      "263/263 [==============================] - 0s 213us/sample - loss: 0.0233 - val_loss: 0.0201\n",
      "Epoch 12/20\n",
      "263/263 [==============================] - 0s 193us/sample - loss: 0.0216 - val_loss: 0.0169\n",
      "Epoch 13/20\n",
      "263/263 [==============================] - 0s 209us/sample - loss: 0.0179 - val_loss: 0.0140\n",
      "Epoch 14/20\n",
      "263/263 [==============================] - 0s 191us/sample - loss: 0.0148 - val_loss: 0.0111\n",
      "Epoch 15/20\n",
      "263/263 [==============================] - 0s 209us/sample - loss: 0.0129 - val_loss: 0.0084\n",
      "Epoch 16/20\n",
      "263/263 [==============================] - 0s 196us/sample - loss: 0.0111 - val_loss: 0.0061\n",
      "Epoch 17/20\n",
      "263/263 [==============================] - 0s 197us/sample - loss: 0.0084 - val_loss: 0.0052\n",
      "Epoch 18/20\n",
      "263/263 [==============================] - 0s 206us/sample - loss: 0.0072 - val_loss: 0.0036\n",
      "Epoch 19/20\n",
      "263/263 [==============================] - 0s 183us/sample - loss: 0.0068 - val_loss: 0.0027\n",
      "Epoch 20/20\n",
      "263/263 [==============================] - 0s 203us/sample - loss: 0.0057 - val_loss: 0.0027\n"
     ]
    }
   ],
   "source": [
    "# Train the model\n",
    "# Use at least 10 epochs\n",
    "# Do not shuffle the data\n",
    "# Experiement with the batch size, but a smaller batch size is recommended\n",
    "training_history = model.fit(\n",
    "    X_train, \n",
    "    y_train, \n",
    "    validation_data=(X_val, y_val),\n",
    "    epochs=20, \n",
    "    shuffle=False, \n",
    "    batch_size=30, \n",
    "    verbose=1\n",
    "  ) "
   ]
  },
  {
   "cell_type": "code",
   "execution_count": 1326,
   "metadata": {},
   "outputs": [
    {
     "name": "stdout",
     "output_type": "stream",
     "text": [
      "Train on 263 samples, validate on 114 samples\n",
      "Epoch 1/50\n",
      "263/263 [==============================] - 0s 527us/sample - loss: 0.0056 - val_loss: 0.0023\n",
      "Epoch 2/50\n",
      "263/263 [==============================] - 0s 560us/sample - loss: 0.0056 - val_loss: 0.0029\n",
      "Epoch 3/50\n",
      "263/263 [==============================] - 0s 483us/sample - loss: 0.0045 - val_loss: 0.0022\n",
      "Epoch 4/50\n",
      "263/263 [==============================] - 0s 511us/sample - loss: 0.0049 - val_loss: 0.0023\n",
      "Epoch 5/50\n",
      "263/263 [==============================] - 0s 527us/sample - loss: 0.0049 - val_loss: 0.0027\n",
      "Epoch 6/50\n",
      "263/263 [==============================] - 0s 523us/sample - loss: 0.0041 - val_loss: 0.0019\n",
      "Epoch 7/50\n",
      "263/263 [==============================] - 0s 500us/sample - loss: 0.0046 - val_loss: 0.0017\n",
      "Epoch 8/50\n",
      "263/263 [==============================] - 0s 479us/sample - loss: 0.0042 - val_loss: 0.0029\n",
      "Epoch 9/50\n",
      "263/263 [==============================] - 0s 497us/sample - loss: 0.0046 - val_loss: 0.0020\n",
      "Epoch 10/50\n",
      "263/263 [==============================] - 0s 497us/sample - loss: 0.0044 - val_loss: 0.0014\n",
      "Epoch 11/50\n",
      "263/263 [==============================] - 0s 479us/sample - loss: 0.0030 - val_loss: 0.0014\n",
      "Epoch 12/50\n",
      "263/263 [==============================] - 0s 484us/sample - loss: 0.0032 - val_loss: 0.0018\n",
      "Epoch 13/50\n",
      "263/263 [==============================] - 0s 548us/sample - loss: 0.0034 - val_loss: 0.0015\n",
      "Epoch 14/50\n",
      "263/263 [==============================] - 0s 509us/sample - loss: 0.0039 - val_loss: 0.0019\n",
      "Epoch 15/50\n",
      "263/263 [==============================] - 0s 525us/sample - loss: 0.0034 - val_loss: 0.0017\n",
      "Epoch 16/50\n",
      "263/263 [==============================] - 0s 525us/sample - loss: 0.0042 - val_loss: 0.0014\n",
      "Epoch 17/50\n",
      "263/263 [==============================] - 0s 552us/sample - loss: 0.0040 - val_loss: 0.0013\n",
      "Epoch 18/50\n",
      "263/263 [==============================] - 0s 553us/sample - loss: 0.0037 - val_loss: 0.0014\n",
      "Epoch 19/50\n",
      "263/263 [==============================] - 0s 492us/sample - loss: 0.0038 - val_loss: 0.0016\n",
      "Epoch 20/50\n",
      "263/263 [==============================] - 0s 536us/sample - loss: 0.0038 - val_loss: 0.0022\n",
      "Epoch 21/50\n",
      "263/263 [==============================] - 0s 524us/sample - loss: 0.0039 - val_loss: 0.0019\n",
      "Epoch 22/50\n",
      "263/263 [==============================] - 0s 481us/sample - loss: 0.0033 - val_loss: 0.0019\n",
      "Epoch 23/50\n",
      "263/263 [==============================] - 0s 496us/sample - loss: 0.0026 - val_loss: 0.0013\n",
      "Epoch 24/50\n",
      "263/263 [==============================] - 0s 488us/sample - loss: 0.0032 - val_loss: 0.0014\n",
      "Epoch 25/50\n",
      "263/263 [==============================] - 0s 486us/sample - loss: 0.0025 - val_loss: 0.0011\n",
      "Epoch 26/50\n",
      "263/263 [==============================] - 0s 613us/sample - loss: 0.0028 - val_loss: 0.0020\n",
      "Epoch 27/50\n",
      "263/263 [==============================] - 0s 557us/sample - loss: 0.0030 - val_loss: 0.0015\n",
      "Epoch 28/50\n",
      "263/263 [==============================] - 0s 523us/sample - loss: 0.0038 - val_loss: 0.0021\n",
      "Epoch 29/50\n",
      "263/263 [==============================] - 0s 513us/sample - loss: 0.0032 - val_loss: 0.0017\n",
      "Epoch 30/50\n",
      "263/263 [==============================] - 0s 483us/sample - loss: 0.0024 - val_loss: 0.0011\n",
      "Epoch 31/50\n",
      "263/263 [==============================] - 0s 488us/sample - loss: 0.0023 - val_loss: 0.0014\n",
      "Epoch 32/50\n",
      "263/263 [==============================] - 0s 468us/sample - loss: 0.0032 - val_loss: 0.0011\n",
      "Epoch 33/50\n",
      "263/263 [==============================] - 0s 531us/sample - loss: 0.0027 - val_loss: 0.0016\n",
      "Epoch 34/50\n",
      "263/263 [==============================] - 0s 487us/sample - loss: 0.0030 - val_loss: 0.0012\n",
      "Epoch 35/50\n",
      "263/263 [==============================] - 0s 477us/sample - loss: 0.0026 - val_loss: 0.0012\n",
      "Epoch 36/50\n",
      "263/263 [==============================] - 0s 509us/sample - loss: 0.0023 - val_loss: 0.0015\n",
      "Epoch 37/50\n",
      "263/263 [==============================] - 0s 471us/sample - loss: 0.0022 - val_loss: 0.0020\n",
      "Epoch 38/50\n",
      "263/263 [==============================] - 0s 430us/sample - loss: 0.0034 - val_loss: 0.0019\n",
      "Epoch 39/50\n",
      "263/263 [==============================] - 0s 567us/sample - loss: 0.0024 - val_loss: 0.0012\n",
      "Epoch 40/50\n",
      "263/263 [==============================] - 0s 490us/sample - loss: 0.0024 - val_loss: 0.0011\n",
      "Epoch 41/50\n",
      "263/263 [==============================] - 0s 498us/sample - loss: 0.0023 - val_loss: 0.0013\n",
      "Epoch 42/50\n",
      "263/263 [==============================] - 0s 483us/sample - loss: 0.0027 - val_loss: 0.0011\n",
      "Epoch 43/50\n",
      "263/263 [==============================] - 0s 494us/sample - loss: 0.0025 - val_loss: 0.0013\n",
      "Epoch 44/50\n",
      "263/263 [==============================] - 0s 486us/sample - loss: 0.0027 - val_loss: 0.0011\n",
      "Epoch 45/50\n",
      "263/263 [==============================] - 0s 490us/sample - loss: 0.0024 - val_loss: 0.0013\n",
      "Epoch 46/50\n",
      "263/263 [==============================] - 0s 481us/sample - loss: 0.0026 - val_loss: 0.0012\n",
      "Epoch 47/50\n",
      "263/263 [==============================] - 0s 528us/sample - loss: 0.0023 - val_loss: 0.0011\n",
      "Epoch 48/50\n",
      "263/263 [==============================] - 0s 483us/sample - loss: 0.0021 - val_loss: 0.0011\n",
      "Epoch 49/50\n",
      "263/263 [==============================] - 0s 462us/sample - loss: 0.0024 - val_loss: 0.0014\n",
      "Epoch 50/50\n",
      "263/263 [==============================] - 0s 460us/sample - loss: 0.0022 - val_loss: 0.0011\n"
     ]
    }
   ],
   "source": [
    "training_history = model.fit(\n",
    "    X_train, \n",
    "    y_train, \n",
    "    validation_data=(X_val, y_val),\n",
    "    epochs=50, \n",
    "    shuffle=False, \n",
    "    batch_size=10, \n",
    "    verbose=1) "
   ]
  },
  {
   "cell_type": "markdown",
   "metadata": {},
   "source": [
    "#### _**Model Performance**_"
   ]
  },
  {
   "cell_type": "code",
   "execution_count": 1332,
   "metadata": {},
   "outputs": [
    {
     "name": "stdout",
     "output_type": "stream",
     "text": [
      "\n",
      " Evaluate on test data for rolling 1-day bitcoin closing prices:\n",
      "\n",
      " Test loss on LSTM RNN is 0.0018.\n"
     ]
    }
   ],
   "source": [
    "# Evaluate the model on the test data using `evaluate`\n",
    "print(f'\\n Evaluate on test data for rolling {window_size}-day bitcoin closing prices:')\n",
    "results = model.evaluate(X_test, y_test, verbose=0)\n",
    "print(f'\\n Test loss on LSTM RNN is {results:,.4f}.')"
   ]
  },
  {
   "cell_type": "code",
   "execution_count": 1333,
   "metadata": {},
   "outputs": [],
   "source": [
    "# Make some predictions\n",
    "# Make predictions using the testing data X_test\n",
    "predicted = model.predict(X_test)"
   ]
  },
  {
   "cell_type": "code",
   "execution_count": 1334,
   "metadata": {},
   "outputs": [],
   "source": [
    "# Recover the original prices instead of the scaled version\n",
    "predicted_prices = scaler.inverse_transform(predicted)\n",
    "real_prices = scaler.inverse_transform(y_test.reshape(-1, 1))"
   ]
  },
  {
   "cell_type": "code",
   "execution_count": 1335,
   "metadata": {},
   "outputs": [
    {
     "data": {
      "text/html": [
       "<div>\n",
       "<style scoped>\n",
       "    .dataframe tbody tr th:only-of-type {\n",
       "        vertical-align: middle;\n",
       "    }\n",
       "\n",
       "    .dataframe tbody tr th {\n",
       "        vertical-align: top;\n",
       "    }\n",
       "\n",
       "    .dataframe thead th {\n",
       "        text-align: right;\n",
       "    }\n",
       "</style>\n",
       "<table border=\"1\" class=\"dataframe\">\n",
       "  <thead>\n",
       "    <tr style=\"text-align: right;\">\n",
       "      <th></th>\n",
       "      <th>Real</th>\n",
       "      <th>Predicted</th>\n",
       "    </tr>\n",
       "  </thead>\n",
       "  <tbody>\n",
       "    <tr>\n",
       "      <th>0</th>\n",
       "      <td>3670.919922</td>\n",
       "      <td>3607.030762</td>\n",
       "    </tr>\n",
       "    <tr>\n",
       "      <th>1</th>\n",
       "      <td>3670.919922</td>\n",
       "      <td>3658.079834</td>\n",
       "    </tr>\n",
       "    <tr>\n",
       "      <th>2</th>\n",
       "      <td>3912.570068</td>\n",
       "      <td>3658.079834</td>\n",
       "    </tr>\n",
       "    <tr>\n",
       "      <th>3</th>\n",
       "      <td>3924.239990</td>\n",
       "      <td>3888.787354</td>\n",
       "    </tr>\n",
       "    <tr>\n",
       "      <th>4</th>\n",
       "      <td>3974.050049</td>\n",
       "      <td>3899.964600</td>\n",
       "    </tr>\n",
       "  </tbody>\n",
       "</table>\n",
       "</div>"
      ],
      "text/plain": [
       "          Real    Predicted\n",
       "0  3670.919922  3607.030762\n",
       "1  3670.919922  3658.079834\n",
       "2  3912.570068  3658.079834\n",
       "3  3924.239990  3888.787354\n",
       "4  3974.050049  3899.964600"
      ]
     },
     "execution_count": 1335,
     "metadata": {},
     "output_type": "execute_result"
    }
   ],
   "source": [
    "# Create a DataFrame of Real and Predicted values\n",
    "btc_closing = pd.DataFrame({\n",
    "    \"Real\": real_prices.ravel(),\n",
    "    \"Predicted\": predicted_prices.ravel()\n",
    "})\n",
    "btc_closing.head()"
   ]
  },
  {
   "cell_type": "code",
   "execution_count": 1336,
   "metadata": {},
   "outputs": [
    {
     "data": {
      "text/plain": [
       "<Figure size 432x288 with 0 Axes>"
      ]
     },
     "metadata": {},
     "output_type": "display_data"
    },
    {
     "data": {
      "image/png": "[encoded data removed]",
      "text/plain": [
       "<Figure size 432x288 with 1 Axes>"
      ]
     },
     "metadata": {
      "needs_background": "light"
     },
     "output_type": "display_data"
    }
   ],
   "source": [
    "# Plot the real vs predicted values as a line chart\n",
    "import matplotlib.pyplot as plt\n",
    "import matplotlib\n",
    "import matplotlib.pyplot as plt\n",
    "plt.figure()\n",
    "btc_closing.plot(title=f\"{window_size}-Day Rolling Real Vs. Predicted Bitcoin Prices\")\n",
    "plt.savefig('../Images/btc_closing_1day.png')\n",
    "plt.show()"
   ]
  },
  {
   "cell_type": "code",
   "execution_count": 1337,
   "metadata": {},
   "outputs": [
    {
     "data": {
      "text/plain": [
       "<Figure size 432x288 with 0 Axes>"
      ]
     },
     "metadata": {},
     "output_type": "display_data"
    },
    {
     "data": {
      "image/png": "[encoded data removed]",
      "text/plain": [
       "<Figure size 432x288 with 1 Axes>"
      ]
     },
     "metadata": {
      "needs_background": "light"
     },
     "output_type": "display_data"
    }
   ],
   "source": [
    "# Plotting loss\n",
    "epochs = 50\n",
    "loss_df = pd.DataFrame(\n",
    "    {\n",
    "        \"Epoch\": range(1, epochs + 1),\n",
    "        \"Train\": training_history.history[\"loss\"],\n",
    "        \"Val\": training_history.history[\"val_loss\"],\n",
    "    }\n",
    ")\n",
    "loss_df.set_index(\"Epoch\", inplace=True)\n",
    "\n",
    "plt.figure()\n",
    "loss_df.plot(title=f\"Loss on LSTM {window_size}-Day Model for Bitcoin Closing Prices\")\n",
    "plt.savefig('../Images/btc_loss_1day.png')\n",
    "plt.show()"
   ]
  },
  {
   "cell_type": "markdown",
   "metadata": {},
   "source": [
    "#### _**Save the Model**_"
   ]
  },
  {
   "cell_type": "code",
   "execution_count": 1338,
   "metadata": {},
   "outputs": [],
   "source": [
    "import h5py\n",
    "\n",
    "model.save('../Models/btc_closing_1day.h5')  # creates a HDF5 file 'my_model.h5'\n",
    "del model  # deletes the existing model"
   ]
  },
  {
   "cell_type": "code",
   "execution_count": 1339,
   "metadata": {},
   "outputs": [],
   "source": [
    "from keras.models import load_model\n",
    "import tensorflow as tf\n",
    "from tensorflow import keras"
   ]
  },
  {
   "cell_type": "code",
   "execution_count": 1340,
   "metadata": {},
   "outputs": [],
   "source": [
    "# returns a compiled model\n",
    "# identical to the previous one\n",
    "model = tf.keras.models.load_model('../Models/btc_closing_1day.h5')"
   ]
  },
  {
   "cell_type": "markdown",
   "metadata": {},
   "source": [
    "### One-Day Window\n",
    "_**Default Valuation**_"
   ]
  },
  {
   "cell_type": "code",
   "execution_count": 1422,
   "metadata": {},
   "outputs": [],
   "source": [
    "# Predict Closing Prices using a 10 day window of fear and greed index values and a target of the 11th day closing price\n",
    "# Try a window size anywhere from 1 to 10 and see how the model performance changes\n",
    "window_size = 1\n",
    "\n",
    "# Column index 1 is the `Close` column\n",
    "feature_column = 1\n",
    "target_column = 1\n",
    "X, y = window_data(df, window_size, feature_column, target_column)"
   ]
  },
  {
   "cell_type": "code",
   "execution_count": 1423,
   "metadata": {},
   "outputs": [],
   "source": [
    "# Use 70% of the data for training and the remainder for testing\n",
    "split = int(0.7 * len(X))\n",
    "X_train = X[: split - 1]\n",
    "X_test = X[split:]\n",
    "y_train = y[: split - 1]\n",
    "y_test = y[split:]"
   ]
  },
  {
   "cell_type": "code",
   "execution_count": 1424,
   "metadata": {},
   "outputs": [],
   "source": [
    "# Use MinMaxScaler to scale the data between 0 and 1. \n",
    "from sklearn.preprocessing import MinMaxScaler\n",
    "\n",
    "scaler = MinMaxScaler()\n",
    "scaler.fit(X)\n",
    "X_train = scaler.transform(X_train)\n",
    "X_test = scaler.transform(X_test)\n",
    "scaler.fit(y)\n",
    "y_train = scaler.transform(y_train)\n",
    "y_test = scaler.transform(y_test)"
   ]
  },
  {
   "cell_type": "code",
   "execution_count": 1425,
   "metadata": {},
   "outputs": [
    {
     "name": "stdout",
     "output_type": "stream",
     "text": [
      "X_train sample values:\n",
      "[[[0.60761794]]] \n",
      "\n",
      "X_test sample values:\n",
      "[[[0.03974167]]]\n"
     ]
    }
   ],
   "source": [
    "# Reshape the features for the model\n",
    "X_train = X_train.reshape((X_train.shape[0], X_train.shape[1], 1))\n",
    "X_test = X_test.reshape((X_test.shape[0], X_test.shape[1], 1))\n",
    "print (f\"X_train sample values:\\n{X_train[:1]} \\n\")\n",
    "print (f\"X_test sample values:\\n{X_test[:1]}\")"
   ]
  },
  {
   "cell_type": "code",
   "execution_count": 1426,
   "metadata": {},
   "outputs": [],
   "source": [
    "from tensorflow.keras.models import Sequential\n",
    "from tensorflow.keras.layers import LSTM, Dense, Dropout"
   ]
  },
  {
   "cell_type": "code",
   "execution_count": 1427,
   "metadata": {},
   "outputs": [],
   "source": [
    "# Build the LSTM model. \n",
    "# The return sequences need to be set to True if you are adding additional LSTM layers, but \n",
    "# You don't have to do this for the final layer. \n",
    "# Define the LSTM RNN model.\n",
    "\n",
    "model = Sequential()\n",
    "\n",
    "# Initial model setup\n",
    "number_units = 30\n",
    "dropout_fraction = 0.2\n",
    "\n",
    "# Layer 1\n",
    "model.add(LSTM(\n",
    "    units=number_units,\n",
    "    return_sequences=True,\n",
    "    input_shape=(X_train.shape[1], 1))\n",
    "    )\n",
    "model.add(Dropout(dropout_fraction))\n",
    "\n",
    "# Layer 2\n",
    "model.add(LSTM(units=number_units, activation='tanh', return_sequences=True))\n",
    "model.add(Dropout(dropout_fraction))\n",
    "\n",
    "# Layer 3\n",
    "model.add(LSTM(units=number_units))\n",
    "model.add(Dropout(dropout_fraction))\n",
    "\n",
    "# Output layer\n",
    "model.add(Dense(1))"
   ]
  },
  {
   "cell_type": "code",
   "execution_count": 1428,
   "metadata": {},
   "outputs": [],
   "source": [
    "# Compile the model\n",
    "model.compile(optimizer=\"adam\", \n",
    "              loss=\"mean_squared_error\") "
   ]
  },
  {
   "cell_type": "code",
   "execution_count": 1429,
   "metadata": {},
   "outputs": [
    {
     "name": "stdout",
     "output_type": "stream",
     "text": [
      "Model: \"sequential_62\"\n",
      "_________________________________________________________________\n",
      "Layer (type)                 Output Shape              Param #   \n",
      "=================================================================\n",
      "lstm_186 (LSTM)              (None, 1, 30)             3840      \n",
      "_________________________________________________________________\n",
      "dropout_186 (Dropout)        (None, 1, 30)             0         \n",
      "_________________________________________________________________\n",
      "lstm_187 (LSTM)              (None, 1, 30)             7320      \n",
      "_________________________________________________________________\n",
      "dropout_187 (Dropout)        (None, 1, 30)             0         \n",
      "_________________________________________________________________\n",
      "lstm_188 (LSTM)              (None, 30)                7320      \n",
      "_________________________________________________________________\n",
      "dropout_188 (Dropout)        (None, 30)                0         \n",
      "_________________________________________________________________\n",
      "dense_62 (Dense)             (None, 1)                 31        \n",
      "=================================================================\n",
      "Total params: 18,511\n",
      "Trainable params: 18,511\n",
      "Non-trainable params: 0\n",
      "_________________________________________________________________\n"
     ]
    }
   ],
   "source": [
    "# Summarize the model\n",
    "model.summary() "
   ]
  },
  {
   "cell_type": "code",
   "execution_count": 1430,
   "metadata": {},
   "outputs": [
    {
     "name": "stdout",
     "output_type": "stream",
     "text": [
      "Train on 377 samples\n",
      "Epoch 1/20\n",
      "377/377 [==============================] - 4s 10ms/sample - loss: 0.1559\n",
      "Epoch 2/20\n",
      "377/377 [==============================] - 0s 159us/sample - loss: 0.1332\n",
      "Epoch 3/20\n",
      "377/377 [==============================] - 0s 167us/sample - loss: 0.1090\n",
      "Epoch 4/20\n",
      "377/377 [==============================] - 0s 170us/sample - loss: 0.0837\n",
      "Epoch 5/20\n",
      "377/377 [==============================] - 0s 177us/sample - loss: 0.0602\n",
      "Epoch 6/20\n",
      "377/377 [==============================] - 0s 174us/sample - loss: 0.0419\n",
      "Epoch 7/20\n",
      "377/377 [==============================] - 0s 175us/sample - loss: 0.0352\n",
      "Epoch 8/20\n",
      "377/377 [==============================] - 0s 172us/sample - loss: 0.0307\n",
      "Epoch 9/20\n",
      "377/377 [==============================] - 0s 167us/sample - loss: 0.0291\n",
      "Epoch 10/20\n",
      "377/377 [==============================] - 0s 191us/sample - loss: 0.0261\n",
      "Epoch 11/20\n",
      "377/377 [==============================] - 0s 170us/sample - loss: 0.0261\n",
      "Epoch 12/20\n",
      "377/377 [==============================] - 0s 154us/sample - loss: 0.0231\n",
      "Epoch 13/20\n",
      "377/377 [==============================] - 0s 160us/sample - loss: 0.0203\n",
      "Epoch 14/20\n",
      "377/377 [==============================] - 0s 152us/sample - loss: 0.0195\n",
      "Epoch 15/20\n",
      "377/377 [==============================] - 0s 157us/sample - loss: 0.0179\n",
      "Epoch 16/20\n",
      "377/377 [==============================] - 0s 157us/sample - loss: 0.0150\n",
      "Epoch 17/20\n",
      "377/377 [==============================] - 0s 154us/sample - loss: 0.0132\n",
      "Epoch 18/20\n",
      "377/377 [==============================] - 0s 149us/sample - loss: 0.0113\n",
      "Epoch 19/20\n",
      "377/377 [==============================] - 0s 150us/sample - loss: 0.0116\n",
      "Epoch 20/20\n",
      "377/377 [==============================] - 0s 152us/sample - loss: 0.0095\n"
     ]
    }
   ],
   "source": [
    "# Train the model\n",
    "# Use at least 10 epochs\n",
    "# Do not shuffle the data\n",
    "# Experiement with the batch size, but a smaller batch size is recommended\n",
    "training_history = model.fit(\n",
    "    X_train, \n",
    "    y_train, \n",
    "    #validation_data=(X_val, y_val),\n",
    "    epochs=20, \n",
    "    shuffle=False, \n",
    "    batch_size=30, \n",
    "    verbose=1\n",
    "  ) "
   ]
  },
  {
   "cell_type": "code",
   "execution_count": 1431,
   "metadata": {},
   "outputs": [
    {
     "name": "stdout",
     "output_type": "stream",
     "text": [
      "Train on 377 samples\n",
      "Epoch 1/50\n",
      "377/377 [==============================] - 0s 451us/sample - loss: 0.0076\n",
      "Epoch 2/50\n",
      "377/377 [==============================] - 0s 445us/sample - loss: 0.0084\n",
      "Epoch 3/50\n",
      "377/377 [==============================] - 0s 460us/sample - loss: 0.0072\n",
      "Epoch 4/50\n",
      "377/377 [==============================] - 0s 439us/sample - loss: 0.0068\n",
      "Epoch 5/50\n",
      "377/377 [==============================] - 0s 395us/sample - loss: 0.0085\n",
      "Epoch 6/50\n",
      "377/377 [==============================] - 0s 409us/sample - loss: 0.0070\n",
      "Epoch 7/50\n",
      "377/377 [==============================] - 0s 400us/sample - loss: 0.0057\n",
      "Epoch 8/50\n",
      "377/377 [==============================] - 0s 418us/sample - loss: 0.0064\n",
      "Epoch 9/50\n",
      "377/377 [==============================] - 0s 413us/sample - loss: 0.0056\n",
      "Epoch 10/50\n",
      "377/377 [==============================] - 0s 435us/sample - loss: 0.0066\n",
      "Epoch 11/50\n",
      "377/377 [==============================] - 0s 393us/sample - loss: 0.0060\n",
      "Epoch 12/50\n",
      "377/377 [==============================] - 0s 407us/sample - loss: 0.0042\n",
      "Epoch 13/50\n",
      "377/377 [==============================] - 0s 414us/sample - loss: 0.0043\n",
      "Epoch 14/50\n",
      "377/377 [==============================] - 0s 413us/sample - loss: 0.0044\n",
      "Epoch 15/50\n",
      "377/377 [==============================] - 0s 427us/sample - loss: 0.0052\n",
      "Epoch 16/50\n",
      "377/377 [==============================] - 0s 452us/sample - loss: 0.0050\n",
      "Epoch 17/50\n",
      "377/377 [==============================] - 0s 405us/sample - loss: 0.0049\n",
      "Epoch 18/50\n",
      "377/377 [==============================] - 0s 391us/sample - loss: 0.0040\n",
      "Epoch 19/50\n",
      "377/377 [==============================] - 0s 410us/sample - loss: 0.0049\n",
      "Epoch 20/50\n",
      "377/377 [==============================] - 0s 390us/sample - loss: 0.0039\n",
      "Epoch 21/50\n",
      "377/377 [==============================] - 0s 402us/sample - loss: 0.0036\n",
      "Epoch 22/50\n",
      "377/377 [==============================] - 0s 457us/sample - loss: 0.0035\n",
      "Epoch 23/50\n",
      "377/377 [==============================] - 0s 429us/sample - loss: 0.0041\n",
      "Epoch 24/50\n",
      "377/377 [==============================] - 0s 430us/sample - loss: 0.0031\n",
      "Epoch 25/50\n",
      "377/377 [==============================] - 0s 437us/sample - loss: 0.0026\n",
      "Epoch 26/50\n",
      "377/377 [==============================] - 0s 414us/sample - loss: 0.0033\n",
      "Epoch 27/50\n",
      "377/377 [==============================] - 0s 410us/sample - loss: 0.0040\n",
      "Epoch 28/50\n",
      "377/377 [==============================] - 0s 435us/sample - loss: 0.0029\n",
      "Epoch 29/50\n",
      "377/377 [==============================] - 0s 399us/sample - loss: 0.0034\n",
      "Epoch 30/50\n",
      "377/377 [==============================] - 0s 396us/sample - loss: 0.0034\n",
      "Epoch 31/50\n",
      "377/377 [==============================] - 0s 429us/sample - loss: 0.0032\n",
      "Epoch 32/50\n",
      "377/377 [==============================] - 0s 453us/sample - loss: 0.0032\n",
      "Epoch 33/50\n",
      "377/377 [==============================] - 0s 443us/sample - loss: 0.0028\n",
      "Epoch 34/50\n",
      "377/377 [==============================] - 0s 468us/sample - loss: 0.0027\n",
      "Epoch 35/50\n",
      "377/377 [==============================] - 0s 487us/sample - loss: 0.0025\n",
      "Epoch 36/50\n",
      "377/377 [==============================] - 0s 429us/sample - loss: 0.0029\n",
      "Epoch 37/50\n",
      "377/377 [==============================] - 0s 402us/sample - loss: 0.0034\n",
      "Epoch 38/50\n",
      "377/377 [==============================] - 0s 397us/sample - loss: 0.0027\n",
      "Epoch 39/50\n",
      "377/377 [==============================] - 0s 417us/sample - loss: 0.0030\n",
      "Epoch 40/50\n",
      "377/377 [==============================] - 0s 423us/sample - loss: 0.0026\n",
      "Epoch 41/50\n",
      "377/377 [==============================] - 0s 413us/sample - loss: 0.0028\n",
      "Epoch 42/50\n",
      "377/377 [==============================] - 0s 406us/sample - loss: 0.0034\n",
      "Epoch 43/50\n",
      "377/377 [==============================] - 0s 406us/sample - loss: 0.0023\n",
      "Epoch 44/50\n",
      "377/377 [==============================] - 0s 400us/sample - loss: 0.0027\n",
      "Epoch 45/50\n",
      "377/377 [==============================] - 0s 407us/sample - loss: 0.0030\n",
      "Epoch 46/50\n",
      "377/377 [==============================] - 0s 393us/sample - loss: 0.0027\n",
      "Epoch 47/50\n",
      "377/377 [==============================] - 0s 428us/sample - loss: 0.0025\n",
      "Epoch 48/50\n",
      "377/377 [==============================] - 0s 402us/sample - loss: 0.0025\n",
      "Epoch 49/50\n",
      "377/377 [==============================] - 0s 400us/sample - loss: 0.0026\n",
      "Epoch 50/50\n",
      "377/377 [==============================] - 0s 428us/sample - loss: 0.0027\n"
     ]
    }
   ],
   "source": [
    "training_history = model.fit(\n",
    "    X_train, \n",
    "    y_train, \n",
    "#    validation_data=(X_val, y_val),\n",
    "    epochs=50, \n",
    "    shuffle=False, \n",
    "    batch_size=10, \n",
    "    verbose=1) "
   ]
  },
  {
   "cell_type": "code",
   "execution_count": 1432,
   "metadata": {},
   "outputs": [
    {
     "name": "stdout",
     "output_type": "stream",
     "text": [
      "\n",
      " Evaluate on test data for rolling 1-day bitcoin closing prices:\n",
      "\n",
      " Without defined valuation data, test loss on LSTM RNN is 0.0021.\n"
     ]
    }
   ],
   "source": [
    "# Evaluate the model on the test data using `evaluate`\n",
    "print(f'\\n Evaluate on test data for rolling {window_size}-day bitcoin closing prices:')\n",
    "results = model.evaluate(X_test, y_test, verbose=0)\n",
    "print(f'\\n Without defined valuation data, test loss on LSTM RNN is {results:,.4f}.')"
   ]
  },
  {
   "cell_type": "code",
   "execution_count": 1433,
   "metadata": {},
   "outputs": [],
   "source": [
    "# Make some predictions\n",
    "# Make predictions using the testing data X_test\n",
    "predicted = model.predict(X_test)"
   ]
  },
  {
   "cell_type": "code",
   "execution_count": 1434,
   "metadata": {},
   "outputs": [],
   "source": [
    "# Recover the original prices instead of the scaled version\n",
    "predicted_prices = scaler.inverse_transform(predicted)\n",
    "real_prices = scaler.inverse_transform(y_test.reshape(-1, 1))"
   ]
  },
  {
   "cell_type": "code",
   "execution_count": 1435,
   "metadata": {},
   "outputs": [
    {
     "data": {
      "text/html": [
       "<div>\n",
       "<style scoped>\n",
       "    .dataframe tbody tr th:only-of-type {\n",
       "        vertical-align: middle;\n",
       "    }\n",
       "\n",
       "    .dataframe tbody tr th {\n",
       "        vertical-align: top;\n",
       "    }\n",
       "\n",
       "    .dataframe thead th {\n",
       "        text-align: right;\n",
       "    }\n",
       "</style>\n",
       "<table border=\"1\" class=\"dataframe\">\n",
       "  <thead>\n",
       "    <tr style=\"text-align: right;\">\n",
       "      <th></th>\n",
       "      <th>Real</th>\n",
       "      <th>Predicted</th>\n",
       "    </tr>\n",
       "  </thead>\n",
       "  <tbody>\n",
       "    <tr>\n",
       "      <th>0</th>\n",
       "      <td>3670.919922</td>\n",
       "      <td>3655.043213</td>\n",
       "    </tr>\n",
       "    <tr>\n",
       "      <th>1</th>\n",
       "      <td>3670.919922</td>\n",
       "      <td>3704.329346</td>\n",
       "    </tr>\n",
       "    <tr>\n",
       "      <th>2</th>\n",
       "      <td>3912.570068</td>\n",
       "      <td>3704.329346</td>\n",
       "    </tr>\n",
       "    <tr>\n",
       "      <th>3</th>\n",
       "      <td>3924.239990</td>\n",
       "      <td>3927.398926</td>\n",
       "    </tr>\n",
       "    <tr>\n",
       "      <th>4</th>\n",
       "      <td>3974.050049</td>\n",
       "      <td>3938.220215</td>\n",
       "    </tr>\n",
       "  </tbody>\n",
       "</table>\n",
       "</div>"
      ],
      "text/plain": [
       "          Real    Predicted\n",
       "0  3670.919922  3655.043213\n",
       "1  3670.919922  3704.329346\n",
       "2  3912.570068  3704.329346\n",
       "3  3924.239990  3927.398926\n",
       "4  3974.050049  3938.220215"
      ]
     },
     "execution_count": 1435,
     "metadata": {},
     "output_type": "execute_result"
    }
   ],
   "source": [
    "# Create a DataFrame of Real and Predicted values\n",
    "btc_fng = pd.DataFrame({\n",
    "    \"Real\": real_prices.ravel(),\n",
    "    \"Predicted\": predicted_prices.ravel()\n",
    "})\n",
    "btc_fng.head()"
   ]
  },
  {
   "cell_type": "code",
   "execution_count": 1436,
   "metadata": {},
   "outputs": [
    {
     "data": {
      "text/plain": [
       "<Figure size 432x288 with 0 Axes>"
      ]
     },
     "metadata": {},
     "output_type": "display_data"
    },
    {
     "data": {
      "image/png": "[encoded data removed]",
      "text/plain": [
       "<Figure size 432x288 with 1 Axes>"
      ]
     },
     "metadata": {
      "needs_background": "light"
     },
     "output_type": "display_data"
    }
   ],
   "source": [
    "# Plot the real vs predicted values as a line chart\n",
    "import matplotlib.pyplot as plt\n",
    "import matplotlib\n",
    "import matplotlib.pyplot as plt\n",
    "plt.figure()\n",
    "btc_fng.plot(title=f\"{window_size}-Day Rolling Real vs. Originally Predicted Bitcoin Prices\")\n",
    "plt.savefig('../Images/btc_closing_original_1day.png')\n",
    "plt.show()"
   ]
  },
  {
   "cell_type": "code",
   "execution_count": 1437,
   "metadata": {},
   "outputs": [
    {
     "data": {
      "text/plain": [
       "<Figure size 432x288 with 0 Axes>"
      ]
     },
     "metadata": {},
     "output_type": "display_data"
    },
    {
     "data": {
      "image/png": "[encoded data removed]",
      "text/plain": [
       "<Figure size 432x288 with 1 Axes>"
      ]
     },
     "metadata": {
      "needs_background": "light"
     },
     "output_type": "display_data"
    }
   ],
   "source": [
    "# Plotting loss\n",
    "epochs = 50\n",
    "loss_df = pd.DataFrame(\n",
    "    {\n",
    "        \"Epoch\": range(1, epochs + 1),\n",
    "        \"Train\": training_history.history[\"loss\"],\n",
    "#        \"Val\": training_history.history[\"val_loss\"],\n",
    "    }\n",
    ")\n",
    "loss_df.set_index(\"Epoch\", inplace=True)\n",
    "\n",
    "plt.figure()\n",
    "loss_df.plot(title=f\"Loss on LSTM {window_size}-Day Model for Originally Predicted Bitcoin Closing Prices\")\n",
    "plt.savefig('../Images/btc_closing_original_loss_1day.png')\n",
    "plt.show()"
   ]
  },
  {
   "cell_type": "code",
   "execution_count": null,
   "metadata": {},
   "outputs": [],
   "source": []
  },
  {
   "cell_type": "code",
   "execution_count": null,
   "metadata": {},
   "outputs": [],
   "source": []
  },
  {
   "cell_type": "code",
   "execution_count": null,
   "metadata": {},
   "outputs": [],
   "source": []
  }
 ],
 "metadata": {
  "kernelspec": {
   "display_name": "mlenv",
   "language": "python",
   "name": "mlenv"
  },
  "language_info": {
   "codemirror_mode": {
    "name": "ipython",
    "version": 3
   },
   "file_extension": ".py",
   "mimetype": "text/x-python",
   "name": "python",
   "nbconvert_exporter": "python",
   "pygments_lexer": "ipython3",
   "version": "3.7.6"
  }
 },
 "nbformat": 4,
 "nbformat_minor": 4
}
