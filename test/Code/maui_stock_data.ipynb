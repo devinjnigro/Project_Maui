{
 "cells": [
  {
   "cell_type": "code",
   "execution_count": null,
   "metadata": {},
   "outputs": [],
   "source": [
    "## This file pulls the last month of closing prices of a stock, calculates the daily returns, and exports the daily\n",
    "## returns to a DataFrame. This DataFrame will be used as the target values for the machine learning model.\n",
    "\n",
    "## NOTE: to run this file, you must execute an IEX Finance API key."
   ]
  },
  {
   "cell_type": "code",
   "execution_count": null,
   "metadata": {},
   "outputs": [],
   "source": [
    "# importing libraries\n",
    "import pandas as pd\n",
    "from datetime import datetime, timedelta\n",
    "from iexfinance.stocks import get_historical_data"
   ]
  },
  {
   "cell_type": "code",
   "execution_count": null,
   "metadata": {},
   "outputs": [],
   "source": [
    "# Set the ticker\n",
    "# TODO - this is hard-coded for now, but will need to accept an output from the selector\n",
    "ticker = \"AAPL\"\n",
    "\n",
    "# setting start and end date for the past four weeks\n",
    "# 29 days needed instead of 28 days so that we get 28 days of return when we calculate\n",
    "end_date = datetime.now()\n",
    "start_date = end_date + timedelta(-29)\n",
    "\n",
    "# getting data from the API and adding to DataFrame\n",
    "df = get_historical_data(ticker, start_date, end_date,  output_format='pandas')\n",
    "df.drop(columns=['open','high','low','volume'],inplace=True)\n",
    "df.head()"
   ]
  },
  {
   "cell_type": "code",
   "execution_count": null,
   "metadata": {},
   "outputs": [],
   "source": [
    "# checking need to clean data\n",
    "df.isnull().sum()"
   ]
  },
  {
   "cell_type": "code",
   "execution_count": null,
   "metadata": {},
   "outputs": [],
   "source": [
    "# calculating daily returns\n",
    "returns = df.pct_change() * 100\n",
    "returns.head(28)"
   ]
  },
  {
   "cell_type": "code",
   "execution_count": null,
   "metadata": {},
   "outputs": [],
   "source": [
    "# checking need to clean data\n",
    "returns.isnull().sum()"
   ]
  },
  {
   "cell_type": "code",
   "execution_count": null,
   "metadata": {},
   "outputs": [],
   "source": [
    "# cleaning returns data\n",
    "returns.dropna(inplace=True)\n",
    "returns.isnull().sum()"
   ]
  },
  {
   "cell_type": "code",
   "execution_count": null,
   "metadata": {},
   "outputs": [],
   "source": []
  }
 ],
 "metadata": {
  "kernelspec": {
   "display_name": "Python 3",
   "language": "python",
   "name": "python3"
  },
  "language_info": {
   "codemirror_mode": {
    "name": "ipython",
    "version": 3
   },
   "file_extension": ".py",
   "mimetype": "text/x-python",
   "name": "python",
   "nbconvert_exporter": "python",
   "pygments_lexer": "ipython3",
   "version": "3.7.4"
  }
 },
 "nbformat": 4,
 "nbformat_minor": 4
}
