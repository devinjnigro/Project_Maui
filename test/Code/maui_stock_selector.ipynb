{
 "cells": [
  {
   "cell_type": "code",
   "execution_count": null,
   "metadata": {},
   "outputs": [],
   "source": [
    "## This file defines the stocks that a user can select to feed into the program. Stock selection is driven from a \n",
    "## dropdown menu that passes a list as an output. This list will be fed into the IEX Finance and Reuters News API queries. "
   ]
  },
  {
   "cell_type": "code",
   "execution_count": null,
   "metadata": {},
   "outputs": [],
   "source": [
    "# importing libraries\n",
    "import ipywidgets as widgets\n",
    "from IPython.display import display"
   ]
  },
  {
   "cell_type": "code",
   "execution_count": null,
   "metadata": {},
   "outputs": [],
   "source": [
    "# setting selection dictionary of lists\n",
    "# structure ~ 'Company Name':['Ticker','Capitalized Name','Lowercase Name']\n",
    "# TODO - populate the list with all companies we would like to display to the user\n",
    "stock_dict = {\n",
    "    'Google':['GOOGL','Google','google'],\n",
    "    'Apple':['AAPL','Apple','apple']\n",
    "}"
   ]
  },
  {
   "cell_type": "code",
   "execution_count": null,
   "metadata": {},
   "outputs": [],
   "source": [
    "# creating an interactive widget that allows the user to select a company\n",
    "# TODO - export this widget to a panel along with the output widget to create the app's UI\n",
    "selector_widget = widgets.Dropdown(options=stock_dict)\n",
    "\n",
    "display(selector_widget)"
   ]
  },
  {
   "cell_type": "code",
   "execution_count": null,
   "metadata": {},
   "outputs": [],
   "source": [
    "# saving the output of the selector value as a variable\n",
    "stock_selection = selector_widget.value\n",
    "\n",
    "stock_selection"
   ]
  }
 ],
 "metadata": {
  "kernelspec": {
   "display_name": "Python 3",
   "language": "python",
   "name": "python3"
  },
  "language_info": {
   "codemirror_mode": {
    "name": "ipython",
    "version": 3
   },
   "file_extension": ".py",
   "mimetype": "text/x-python",
   "name": "python",
   "nbconvert_exporter": "python",
   "pygments_lexer": "ipython3",
   "version": "3.7.4"
  }
 },
 "nbformat": 4,
 "nbformat_minor": 4
}
